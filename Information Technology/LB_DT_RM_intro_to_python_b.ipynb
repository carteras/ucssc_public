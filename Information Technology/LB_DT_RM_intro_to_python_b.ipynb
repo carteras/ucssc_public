{
  "nbformat": 4,
  "nbformat_minor": 0,
  "metadata": {
    "colab": {
      "name": "LB_DT_RM_intro_to_python_b.ipynb",
      "provenance": []
    },
    "kernelspec": {
      "name": "python3",
      "display_name": "Python 3"
    }
  },
  "cells": [
    {
      "cell_type": "markdown",
      "metadata": {
        "id": "2H4VZj8-Vm7H"
      },
      "source": [
        "# F-Strings, Variables and Orders of Operations\r\n",
        "\r\n",
        "## Goals\r\n",
        "\r\n",
        "\r\n",
        "* Know what variables are and how to implement them for foundation cases\r\n",
        "* * Understand basic orders of operations in relation to variables. \r\n",
        "* Changing variable types\r\n",
        "* Know what f-strings are and how to use them\r\n",
        "* How to accept user input."
      ]
    },
    {
      "cell_type": "markdown",
      "metadata": {
        "id": "3R-jqMiYVq7v"
      },
      "source": [
        "## Introduction\r\n",
        "\r\n",
        "To get a better understanding of what is happening in python we will break up `hello_world`. \r\n",
        "\r\n",
        "```python\r\n",
        "print(\"Hello, World!\")\r\n",
        "```\r\n",
        "\r\n",
        "When you run this code you will see: \r\n",
        "\r\n",
        "```\r\n",
        "> Hello, World!\r\n",
        "```"
      ]
    },
    {
      "cell_type": "markdown",
      "metadata": {
        "id": "v3vXKyarVx4I"
      },
      "source": [
        "As I mentioned before, `\"Hello, World\"` is a string, a blob of alpha-numeric or special characters. We can pull it out of the print statement and define it as it's own variable.\r\n",
        "\r\n",
        "```python\r\n",
        "message = \"Hello, World!\"\r\n",
        "print(message)\r\n",
        "```\r\n",
        "\r\n",
        "When you run this code you will see: \r\n",
        "\r\n",
        "```\r\n",
        "> Hello, World!\r\n",
        "````"
      ]
    },
    {
      "cell_type": "code",
      "metadata": {
        "id": "rY32HTB2V2AD"
      },
      "source": [
        "# write the code from above"
      ],
      "execution_count": null,
      "outputs": []
    },
    {
      "cell_type": "markdown",
      "metadata": {
        "id": "KaIpVxYEWQ6N"
      },
      "source": [
        "### variables\r\n",
        "\r\n",
        "What we've done is added a variable named message. All variables contain two things: \r\n",
        "\r\n",
        "* a name/label - how we, the programmer, asks python for some data\r\n",
        "* a value - the data that python is storing for us. \r\n",
        "\r\n",
        "In this case, the name is called `message` and the value that it points to is a string that says `\"Hello, World!\"`\r\n",
        "\r\n",
        "Let's play with this: \r\n",
        "\r\n",
        "**practice**\r\n",
        "\r\n",
        "```python\r\n",
        "name = 'Ada Lovelace'\r\n",
        "age = \"28\"\r\n",
        "fact = \"Regarded as the first programmer.\"\r\n",
        "print(name)\r\n",
        "print(age)\r\n",
        "print(fact)\r\n",
        "```\r\n",
        "\r\n",
        "You'll get the following output: \r\n",
        "\r\n",
        "```\r\n",
        "> Ada Lovelace\r\n",
        "> 28\r\n",
        "> Regarded as the first programmer.\r\n",
        "```"
      ]
    },
    {
      "cell_type": "code",
      "metadata": {
        "id": "sr02_Tn8V929"
      },
      "source": [
        "# Write the code from above"
      ],
      "execution_count": null,
      "outputs": []
    },
    {
      "cell_type": "markdown",
      "metadata": {
        "id": "vf8UcxdEV_lG"
      },
      "source": [
        "That's pretty cool, but can we add some more details to it? \r\n",
        "\r\n",
        "We could use that trick of using two strings\r\n",
        "```python\r\n",
        "name = 'Ada Lovelace'\r\n",
        "age = \"28\"\r\n",
        "fact = \"Regarded as the first programmer.\"\r\n",
        "print(\"Name: \", name)\r\n",
        "print(\"Age: \",age)\r\n",
        "print(\"Facts: \",fact)\r\n",
        "```\r\n",
        "```\r\n",
        "> Name: Ada Lovelace\r\n",
        "> Age: 28\r\n",
        "> Facts: Regarded as the first programmer.\r\n",
        "```"
      ]
    },
    {
      "cell_type": "code",
      "metadata": {
        "id": "rT-apCs8WMcg"
      },
      "source": [
        "# give that a go here"
      ],
      "execution_count": null,
      "outputs": []
    },
    {
      "cell_type": "markdown",
      "metadata": {
        "id": "FSYKPKnDWT_h"
      },
      "source": [
        "We can also join strings together and we can do so in two ways. \r\n",
        "\r\n",
        "```python\r\n",
        "# note the space after the colon (:) and the + between strings\r\n",
        "print(\"Name: \" + name)\r\n",
        "print(\"Age: \" + age)\r\n",
        "print(\"Facts: \" + fact)\r\n",
        "```"
      ]
    },
    {
      "cell_type": "code",
      "metadata": {
        "id": "RLaYXTnbWZHv"
      },
      "source": [
        "# remake your code here and run it"
      ],
      "execution_count": null,
      "outputs": []
    },
    {
      "cell_type": "markdown",
      "metadata": {
        "id": "iug-EGCSWdkK"
      },
      "source": [
        "We can also join (concatenate) strings when we make variables\r\n",
        "\r\n",
        "```python\r\n",
        "name = 'Ada Lovelace'\r\n",
        "age = \"28\"\r\n",
        "fact = \"Regarded as the first programmer.\"\r\n",
        "\r\n",
        "name = \"Name: \" + name\r\n",
        "age = \"Age: \" + age\r\n",
        "fact = \"Facts: \" + fact\r\n",
        "\r\n",
        "print(name)\r\n",
        "print(age)\r\n",
        "print(fact)\r\n",
        "```\r\n",
        "\r\n"
      ]
    },
    {
      "cell_type": "code",
      "metadata": {
        "id": "PbvsiDciWgl0"
      },
      "source": [
        "# Give that a go here"
      ],
      "execution_count": null,
      "outputs": []
    },
    {
      "cell_type": "markdown",
      "metadata": {
        "id": "Bzd8J6hFWns0"
      },
      "source": [
        "Wait, what wizardry did we just perform here? we added the data in the variable name to the end of a new string that says `\"Name: \"` and assigned that to the variable name. \r\n",
        "\r\n",
        "It's a bit like saying this \r\n",
        "\r\n",
        "```\r\n",
        "x = 1\r\n",
        "x = x + 1\r\n",
        "print(x)\r\n",
        "> 2\r\n",
        "```"
      ]
    },
    {
      "cell_type": "code",
      "metadata": {
        "id": "XGWFsK-lWr6Z"
      },
      "source": [
        "# You might as well give that a go"
      ],
      "execution_count": null,
      "outputs": []
    },
    {
      "cell_type": "markdown",
      "metadata": {
        "id": "5NdNhv0xWvj1"
      },
      "source": [
        "Variables can represent many different types of data. We've been introduced to string but there is more, a lot more. \r\n",
        "\r\n",
        "The first lot of variables we are going to use are:\r\n",
        "\r\n",
        "* string: Text\r\n",
        "* Numbers: integers (whole numbers) and float (numbers with decimal values)\r\n",
        "* Boolean: True or False statements."
      ]
    },
    {
      "cell_type": "markdown",
      "metadata": {
        "id": "u2unlv53Wwsk"
      },
      "source": [
        "### orders of operation\r\n",
        "\r\n",
        "Let's talk maths.\r\n",
        "\r\n",
        "Parentheses have the highest precedence and can be used to force an expression to evaluate in the order that you want. `2 * (3-1) == 4`\r\n",
        "\r\n",
        "Exponentiation has the next highest precedence so `2**2+1 == 5` but `2**(2+1) == 8`\r\n",
        "\r\n",
        "Multiplication and division operators have the same precedence, which is higher than addition and subtraction (which also have the same precedence with each other). Operators with the same precedence (except for `**`) are evaluated from left-to-right (left associative)\r\n",
        "\r\n",
        "* `2 * 3 - 2 + 1 == 5`\r\n",
        "* `(2*3) - 2 + 1 == 5`\r\n",
        "* `6 - 2 + 1 == 5`\r\n",
        "* `(6-2) + 1 == 5`\r\n",
        "* `4 + 1 == 5`\r\n",
        "* `5 == 5`\r\n",
        "\r\n",
        "Let's talk python operators \r\n",
        "\r\n",
        "* `*` Multiplication - the repetition of addition (`2 * 4 = 2 + 2 + 2 + 2` )\r\n",
        "* `/` Division  - the number of times you can separate some value into parts e.g., `8 / 2 == 4` because `2 + 2 + 2 + 2`\r\n",
        "* `//` Floor division - Floor division is a normal division operation except that it returns the largest possible integer. This integer is either less than or equal to the normal division result. `7 // 3 == 2`\r\n",
        "* `+` addition `1 + 1 == 2`\r\n",
        "* `-` subtraction `2 - 1 == 1`\r\n",
        "* `**` exponential `2**4 == 2 * 2 * 2 * 2 = 16`\r\n",
        "* `%` modulus - In computing, the modulo operation returns the remainder or signed remainder of a division `7 % 3 = 7/3 = 2 remainder 1 = 1`\r\n",
        "* = assigns a value `foo = 5` the variable, foo, is assigned the value of 5\r\n",
        "\r\n",
        "Sometimes we want to reassign a variable. Let's say that we have a spaceship that is moving along the x axis. \r\n",
        "\r\n",
        "+= the logical equivalent to `foo = foo + 5` this is the same for other athematic values (`-=` `*=`, `/=`, etc)\r\n",
        "\r\n",
        "```python \r\n",
        "x = 5\r\n",
        "y = 5 \r\n",
        "\r\n",
        "print(x, y)  # x -> 5, y -> 5\r\n",
        "\r\n",
        "x = x + 1\r\n",
        "print(x, y)  # x -> 6, y -> 5\r\n",
        "```\r\n",
        " \r\n",
        "\r\n",
        "\r\n",
        "**Practice**\r\n",
        "```python\r\n",
        "x = 15\r\n",
        "y = 4\r\n",
        "\r\n",
        "# Output: x + y = 19\r\n",
        "print('x + y =',x+y)\r\n",
        "\r\n",
        "# Output: x - y = 11\r\n",
        "print('x - y =',x-y)\r\n",
        "\r\n",
        "# Output: x * y = 60\r\n",
        "print('x * y =',x*y)\r\n",
        "\r\n",
        "# Output: x / y = 3.75\r\n",
        "print('x / y =',x/y)\r\n",
        "\r\n",
        "# Output: x // y = 3\r\n",
        "print('x // y =',x//y)\r\n",
        "\r\n",
        "# Output: x ** y = 50625\r\n",
        "print('x ** y =',x**y)\r\n",
        "```\r\n"
      ]
    },
    {
      "cell_type": "markdown",
      "metadata": {
        "id": "-1pnnfJ2XDh7"
      },
      "source": [
        "### Changing variable types \r\n",
        "\r\n",
        "Often, you will want to use a variable's value within a message. For example, you might want to do something like this: \r\n",
        "\r\n",
        "```python\r\n",
        "name = \"ada lovelace\"\r\n",
        "age = 26\r\n",
        "message = name.title() + \" became the worlds first programmer at the age of \" + age\r\n",
        "print(message)\r\n",
        "```\r\n",
        "\r\n"
      ]
    },
    {
      "cell_type": "code",
      "metadata": {
        "id": "F-ppBLRxXErY"
      },
      "source": [
        "# Wack that into code and run it."
      ],
      "execution_count": null,
      "outputs": []
    },
    {
      "cell_type": "markdown",
      "metadata": {
        "id": "Uv1V7lisXLU-"
      },
      "source": [
        "You'll get the following error: \r\n",
        "\r\n",
        "```\r\n",
        "Traceback (most recent call last):\r\n",
        "  File \"d:\\github\\ucssc\\foo.py\", line 3, in <module>\r\n",
        "    message = name.title() + \" became the worlds first programmer at the age of \" + age\r\n",
        "TypeError: can only concatenate str (not \"int\") to str\r\n",
        "```\r\n",
        "\r\n",
        "Type Errors mean that Python can't recognize the kind of information that you are using. In this example, you are using a number but Python isn't sure how to interpret it. \r\n",
        "\r\n",
        "We can tell python how to use this as a str by casting it with `str()`.\r\n",
        "\r\n",
        "```python\r\n",
        "name = \"ada lovelace\"\r\n",
        "age = 26\r\n",
        "message = name.title() + \" became the worlds first programmer at the age of \" + str(age)\r\n",
        "print(message)\r\n",
        "```\r\n",
        "```\r\n",
        "> Ada Lovelace became the worlds first programmer at the age of 26"
      ]
    },
    {
      "cell_type": "code",
      "metadata": {
        "id": "KlsBl40MXHVn"
      },
      "source": [
        "# try it here"
      ],
      "execution_count": null,
      "outputs": []
    },
    {
      "cell_type": "markdown",
      "metadata": {
        "id": "v8HL--xUXNpn"
      },
      "source": [
        "You can also cast strings to numbers (you'll need this later!). Why is this important? Because you can sometimes get input in string format that you want to do maths stuff with. \r\n",
        "\r\n",
        "\r\n",
        "Let's look at this example. \r\n",
        "```python\r\n",
        "x = \"5\"\r\n",
        "print(x * 5)\r\n",
        "```"
      ]
    },
    {
      "cell_type": "code",
      "metadata": {
        "id": "DlLekoAYXSsD"
      },
      "source": [
        "# you'd expect it to return 25, right? "
      ],
      "execution_count": null,
      "outputs": []
    },
    {
      "cell_type": "markdown",
      "metadata": {
        "id": "fmY9EG4HXYB5"
      },
      "source": [
        "Why is that? Remember that a String isn't a number. It might look like a number but Python uses it as a symbol that just happens to look like a number. So, how can we convert it into a number? In this case, we can use `int()` (because 5 is a whole number)\r\n",
        "```python\r\n",
        "x = \"5\"\r\n",
        "print(int(x) * 5)\r\n",
        "```\r\n",
        "`> 25`"
      ]
    },
    {
      "cell_type": "code",
      "metadata": {
        "id": "ad_DQLw7XZcY"
      },
      "source": [
        ""
      ],
      "execution_count": null,
      "outputs": []
    },
    {
      "cell_type": "markdown",
      "metadata": {
        "id": "IOF2Gh6PXaSQ"
      },
      "source": [
        "You could also reassign x: \r\n",
        "\r\n",
        "```python \r\n",
        "x = \"5\"\r\n",
        "x = int(x)\r\n",
        "print(x * 5)\r\n",
        "```"
      ]
    },
    {
      "cell_type": "code",
      "metadata": {
        "id": "wuULRhVYXdLY"
      },
      "source": [
        ""
      ],
      "execution_count": null,
      "outputs": []
    },
    {
      "cell_type": "markdown",
      "metadata": {
        "id": "zncIsUm3XdhF"
      },
      "source": [
        "### f-strings\r\n",
        "\r\n",
        "One of the problems with string joining is that life can get very message. Let's rewrite our little set of facts about Ada Lovelace into a small story. \r\n",
        "\r\n",
        "```python\r\n",
        "name = 'Ada Lovelace'\r\n",
        "age = \"28\"\r\n",
        "fact = \"regarded as the first programmer\"\r\n",
        "\r\n",
        "story = \"at the tender age of \" + age + \", \" + name + \" started her work which would later see her \" + fact + \".\"\r\n",
        "\r\n",
        "print(story)\r\n",
        "```\r\n",
        "\r\n",
        "This is getting a bit chunky. Python 3.6 introduced a new way of handling  these kinds of outputs called f-strings. \r\n",
        "\r\n",
        "```python\r\n",
        "name = 'Ada Lovelace'\r\n",
        "age = 28\r\n",
        "fact = \"regarded as the first programmer\"\r\n",
        "\r\n",
        "story = f\"At the tender age of {str(age)}, {name} started her work which would later see her {fact}.\"\r\n",
        "\r\n",
        "print(story)\r\n",
        "```"
      ]
    },
    {
      "cell_type": "code",
      "metadata": {
        "id": "V_JPM9y0Xiap"
      },
      "source": [
        "# create a story like the one I made above here"
      ],
      "execution_count": null,
      "outputs": []
    },
    {
      "cell_type": "markdown",
      "metadata": {
        "id": "PvmAG2dJXioc"
      },
      "source": [
        "The advantage of f-strings is that by, effectively, injecting the variable directly into a string, it is a more elegant, and readable approach to joining strings. "
      ]
    },
    {
      "cell_type": "markdown",
      "metadata": {
        "id": "OmfdjqpEXndZ"
      },
      "source": [
        "### User Input\r\n",
        "\r\n",
        "In Python we can ask the user for input using the `input()` function. \r\n",
        "\r\n",
        "```python\r\n",
        "message = input()\r\n",
        "print(message)\r\n",
        "```"
      ]
    },
    {
      "cell_type": "code",
      "metadata": {
        "id": "w6b_Kl7qXpuL"
      },
      "source": [
        ""
      ],
      "execution_count": null,
      "outputs": []
    },
    {
      "cell_type": "markdown",
      "metadata": {
        "id": "rPWpdhKDYIMq"
      },
      "source": [
        "We can also ask the user what to input (be careful of this in CTFd resposnes. \r\n",
        "```python\r\n",
        "message = input(\"What is your name: \")\r\n",
        "print(message)\r\n",
        "```"
      ]
    },
    {
      "cell_type": "code",
      "metadata": {
        "id": "QCeRQ_TRYRIj"
      },
      "source": [
        ""
      ],
      "execution_count": null,
      "outputs": []
    },
    {
      "cell_type": "markdown",
      "metadata": {
        "id": "pb2d8JLwXp_Q"
      },
      "source": [
        "## Challenges\r\n",
        "\r\n",
        "### Challenge 1\r\n",
        " Using the following code as a base: \r\n",
        " \r\n",
        " ```python\r\n",
        " name = input()\r\n",
        " name = name.strip()\r\n",
        " print(name)\r\n",
        " name = input()\r\n",
        " name = name.strip()\r\n",
        " print(name)\r\n",
        " name = input()\r\n",
        " name = name.strip()\r\n",
        " print(name)\r\n",
        " ```\r\n",
        " \r\n",
        " The output you must get is \r\n",
        " \r\n",
        " `Hello, <name>, how are you?`"
      ]
    },
    {
      "cell_type": "code",
      "metadata": {
        "id": "UyyZzSCOY6KK"
      },
      "source": [
        ""
      ],
      "execution_count": null,
      "outputs": []
    },
    {
      "cell_type": "markdown",
      "metadata": {
        "id": "wWtGPhC5Y6wK"
      },
      "source": [
        "### Challenge 2\r\n",
        "\r\n",
        "Using the following code: \r\n",
        "\r\n",
        "```python\r\n",
        "name = input()\r\n",
        "name = name.strip()\r\n",
        "```\r\n",
        "\r\n",
        "Store a person’s name in a variable, and then print that person’s name in lowercase, uppercase,  titlecase, and capitalization. \r\n",
        "\r\n",
        "The input you will get is `ada lovelace`"
      ]
    },
    {
      "cell_type": "code",
      "metadata": {
        "id": "Ter9HmS1Y8B3"
      },
      "source": [
        ""
      ],
      "execution_count": null,
      "outputs": []
    },
    {
      "cell_type": "markdown",
      "metadata": {
        "id": "ULKEBuPNY86_"
      },
      "source": [
        "### Challenge 3\r\n",
        "\r\n",
        "Using the following code as a base: \r\n",
        "\r\n",
        "```python\r\n",
        "name = input()\r\n",
        "quote = input()\r\n",
        "name = name.strip()\r\n",
        "name = name.strip()\r\n",
        "print(quote, name)\r\n",
        "```\r\n",
        "\r\n",
        "You are going to receive three famous quotes from 3 famous people. The format of your output must look like this: \r\n",
        "\r\n",
        "`<name> once said, \"<quote>.\"`\r\n",
        "All names must be in title case\r\n",
        "all quotes must be capitalised \r\n",
        "e.g.: \r\n",
        "`Albert Einstein once said, “A person who never made a mistake never tried anything new.”`\r\n",
        "\r\n",
        "The inputs you should are\r\n",
        "\r\n",
        "albert einstein\r\n",
        "I have no special talent. I am only passionately curious\r\n",
        "BUDDHA\r\n",
        "all that we are is the result of what we have thought\r\n",
        "Steve jobs\r\n",
        "STAY HUNGRY, STAY FOOLISH"
      ]
    },
    {
      "cell_type": "code",
      "metadata": {
        "id": "F_wdxPwKZBeW"
      },
      "source": [
        ""
      ],
      "execution_count": null,
      "outputs": []
    },
    {
      "cell_type": "markdown",
      "metadata": {
        "id": "etigYtbFZEEt"
      },
      "source": [
        "### Challenge 4\r\n",
        "\r\n",
        "Fix the following code: \r\n",
        "\r\n",
        "```python\r\n",
        "# The programmer wants to create a simple calculating machine. \r\n",
        "# They want to add the first number to the second number. \r\n",
        "# It isn't working as intended. Please fix\r\n",
        "first = input()\r\n",
        "first = first.strip()\r\n",
        "second = input()\r\n",
        "second = second.strip()\r\n",
        "print(first + second)\r\n",
        "```\r\n",
        "\r\n",
        "You should get two numbers and they must add up. i.e., `print(1 + 1)` must print `2`"
      ]
    },
    {
      "cell_type": "code",
      "metadata": {
        "id": "zNHmOJt1ZErr"
      },
      "source": [
        "first = input()\r\n",
        "first = first.strip()\r\n",
        "second = input()\r\n",
        "second = second.strip()\r\n",
        "print(first + second)"
      ],
      "execution_count": null,
      "outputs": []
    }
  ]
}