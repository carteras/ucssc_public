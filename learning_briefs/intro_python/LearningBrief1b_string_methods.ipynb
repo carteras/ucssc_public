{
  "nbformat": 4,
  "nbformat_minor": 0,
  "metadata": {
    "colab": {
      "name": "LearningBrief1b_string_methods.ipynb",
      "provenance": [],
      "collapsed_sections": []
    },
    "kernelspec": {
      "name": "python3",
      "display_name": "Python 3"
    }
  },
  "cells": [
    {
      "cell_type": "markdown",
      "metadata": {
        "id": "gtpi-ElYzWAL",
        "colab_type": "text"
      },
      "source": [
        "**Goals:** \n",
        "\n",
        "\n",
        "* Know about String Methods\n",
        "* Gain a broad understanding of how to impliment different string methods to solve problems\n",
        "\n",
        "\n",
        "**Conceptual Links:**\n",
        "\n",
        "Python documentation: [String methods](https://docs.python.org/2.5/lib/string-methods.html)"
      ]
    },
    {
      "cell_type": "markdown",
      "metadata": {
        "id": "mabFHYPuKgWb",
        "colab_type": "text"
      },
      "source": [
        ""
      ]
    },
    {
      "cell_type": "markdown",
      "metadata": {
        "id": "90l31Fd1CX0X",
        "colab_type": "text"
      },
      "source": [
        "String Methods\n",
        "\n",
        "The string object has a lot of special methods built in. These methods allow you to manipulate or test a various array of things. There are a lot more than I have time to teach. I highly recommend you look at them yourselves. \n",
        "\n",
        "https://docs.python.org/3/library/stdtypes.html#string-methods"
      ]
    },
    {
      "cell_type": "markdown",
      "metadata": {
        "id": "ot5mMlCHznXB",
        "colab_type": "text"
      },
      "source": [
        "Let's start by setting up some initial strings to work with: \n",
        "```python\n",
        "string_with_extra_spaces = \"    hello    \"\n",
        "string_in_capital_letters = \"HELLO!\"\n",
        "string_in_lower_case = \"hello world\"\n",
        "```\n",
        "Then press the execute button on the left\n"
      ]
    },
    {
      "cell_type": "code",
      "metadata": {
        "id": "RaO_1EoB8qqx",
        "colab_type": "code",
        "colab": {}
      },
      "source": [
        ""
      ],
      "execution_count": null,
      "outputs": []
    },
    {
      "cell_type": "markdown",
      "metadata": {
        "id": "sf08W5E3z2TL",
        "colab_type": "text"
      },
      "source": [
        "**Dealing with extra spaces:** \n",
        "\n",
        "The Python String object has tools that allow you to remove unwanted whitespace. \n",
        "\n",
        "The example below brackets string variables so you can seee the whitespace being removed. \n",
        "\n",
        "```python\n",
        "print(f'[{string_with_extra_spaces}]')\n",
        "print(f'[{string_with_extra_spaces.rstrip()}]')\n",
        "print(f'[{string_with_extra_spaces.lstrip()}]')\n",
        "print(f'[{string_with_extra_spaces.strip()}]')\n",
        "```"
      ]
    },
    {
      "cell_type": "code",
      "metadata": {
        "id": "LGhs0waa9SkD",
        "colab_type": "code",
        "colab": {}
      },
      "source": [
        ""
      ],
      "execution_count": null,
      "outputs": []
    },
    {
      "cell_type": "markdown",
      "metadata": {
        "id": "iziG9sfhc9N-",
        "colab_type": "text"
      },
      "source": [
        "**Forcing lower case** \n",
        "\n",
        "Often, especially when dealing with text we want to make sure that it's all the same. \n",
        "\n",
        "This makes it easy to process for us as human beings and it also helps to sanatise unwanted input. \n",
        "\n",
        "One such method for doing this is to force all letters to lower case letters. \n",
        "\n",
        "\n",
        "```python\n",
        "print(string_in_capital_letters.lower())\n",
        "```"
      ]
    },
    {
      "cell_type": "code",
      "metadata": {
        "id": "0K4T1NCn9pS4",
        "colab_type": "code",
        "colab": {}
      },
      "source": [
        ""
      ],
      "execution_count": null,
      "outputs": []
    },
    {
      "cell_type": "markdown",
      "metadata": {
        "id": "U-sKsInHA_bB",
        "colab_type": "text"
      },
      "source": [
        "**Forcing upper case:**\n",
        "\n",
        "Another approach is forcing all of the characters to upper case. \n",
        "\n",
        "Practice: \n",
        "```python\n",
        "print(string_in_lower_case.upper())\n",
        "```"
      ]
    },
    {
      "cell_type": "code",
      "metadata": {
        "id": "0tIm9hPQ9vBB",
        "colab_type": "code",
        "colab": {}
      },
      "source": [
        ""
      ],
      "execution_count": null,
      "outputs": []
    },
    {
      "cell_type": "markdown",
      "metadata": {
        "id": "1i-Ydya5btYB",
        "colab_type": "text"
      },
      "source": [
        "```python\n",
        "print(string_in_lower_case.title())\n",
        "```"
      ]
    },
    {
      "cell_type": "code",
      "metadata": {
        "id": "-GEh3g5c9yLN",
        "colab_type": "code",
        "colab": {}
      },
      "source": [
        ""
      ],
      "execution_count": null,
      "outputs": []
    },
    {
      "cell_type": "markdown",
      "metadata": {
        "id": "coqIQGHdbwmf",
        "colab_type": "text"
      },
      "source": [
        "```python\n",
        "print(string_in_lower_case.capitalize())\n",
        "```"
      ]
    },
    {
      "cell_type": "code",
      "metadata": {
        "id": "SqK_lapV-7zZ",
        "colab_type": "code",
        "colab": {}
      },
      "source": [
        ""
      ],
      "execution_count": null,
      "outputs": []
    },
    {
      "cell_type": "markdown",
      "metadata": {
        "id": "ol3r_LmHb0_e",
        "colab_type": "text"
      },
      "source": [
        "```python\n",
        "print(string_in_lower_case.replace(\"h\", \"j\"))\n",
        "```"
      ]
    },
    {
      "cell_type": "code",
      "metadata": {
        "id": "R9_Py5NR94_4",
        "colab_type": "code",
        "colab": {}
      },
      "source": [
        ""
      ],
      "execution_count": null,
      "outputs": []
    },
    {
      "cell_type": "markdown",
      "metadata": {
        "id": "ugt8VF1-dYpA",
        "colab_type": "text"
      },
      "source": [
        "```python\n",
        "text = \"The quick brown fox jumps over the lazy dog.\"\n",
        "```"
      ]
    },
    {
      "cell_type": "code",
      "metadata": {
        "id": "MaqIZse1-EA0",
        "colab_type": "code",
        "colab": {}
      },
      "source": [
        ""
      ],
      "execution_count": null,
      "outputs": []
    },
    {
      "cell_type": "markdown",
      "metadata": {
        "id": "0PnBXO_0b5aX",
        "colab_type": "text"
      },
      "source": [
        "```python\n",
        "print(\"dog\" in text)\n",
        "```"
      ]
    },
    {
      "cell_type": "code",
      "metadata": {
        "id": "JWB15YRW-PYe",
        "colab_type": "code",
        "colab": {}
      },
      "source": [
        ""
      ],
      "execution_count": null,
      "outputs": []
    },
    {
      "cell_type": "markdown",
      "metadata": {
        "id": "3lIsQK3mb8eX",
        "colab_type": "text"
      },
      "source": [
        "```python\n",
        "print(\"a\" in text)\n",
        "```"
      ]
    },
    {
      "cell_type": "code",
      "metadata": {
        "id": "Jw8esksa-Zuk",
        "colab_type": "code",
        "colab": {}
      },
      "source": [
        ""
      ],
      "execution_count": null,
      "outputs": []
    },
    {
      "cell_type": "markdown",
      "metadata": {
        "id": "4VLEUP0vcAgo",
        "colab_type": "text"
      },
      "source": [
        "```python\n",
        "escape_characters_in_text = 'I\\'m a little teapot'\n",
        "print(escape_characters_in_text)\n",
        "```"
      ]
    },
    {
      "cell_type": "code",
      "metadata": {
        "id": "GsSmSFP4duxE",
        "colab_type": "code",
        "colab": {}
      },
      "source": [
        ""
      ],
      "execution_count": null,
      "outputs": []
    },
    {
      "cell_type": "markdown",
      "metadata": {
        "id": "fv5R7UqAcEZf",
        "colab_type": "text"
      },
      "source": [
        "```python\n",
        "txt = \"This will insert one \\\\ backslash.\"\n",
        "print(txt)\n",
        "```\n",
        "\n",
        "\n"
      ]
    },
    {
      "cell_type": "code",
      "metadata": {
        "id": "z-fWDlhr_MRq",
        "colab_type": "code",
        "colab": {}
      },
      "source": [
        " "
      ],
      "execution_count": null,
      "outputs": []
    },
    {
      "cell_type": "markdown",
      "metadata": {
        "id": "1A5fYGrecOvm",
        "colab_type": "text"
      },
      "source": [
        "```python\n",
        "txt = \"Hello\\nWorld!\"\n",
        "print(txt)\n",
        "```"
      ]
    },
    {
      "cell_type": "code",
      "metadata": {
        "id": "CCz2BEeu_SBi",
        "colab_type": "code",
        "colab": {}
      },
      "source": [
        " "
      ],
      "execution_count": null,
      "outputs": []
    },
    {
      "cell_type": "markdown",
      "metadata": {
        "id": "eAApolgqcQ5u",
        "colab_type": "text"
      },
      "source": [
        "```python\n",
        "txt = \"Hello\\tWorld!\"\n",
        "print(txt)\n",
        "```"
      ]
    },
    {
      "cell_type": "code",
      "metadata": {
        "id": "JvGV7jYK_bRc",
        "colab_type": "code",
        "colab": {
          "base_uri": "https://localhost:8080/",
          "height": 34
        },
        "outputId": "1cd4602f-5e9c-44d0-8ccc-2316db84a0fe"
      },
      "source": [
        " "
      ],
      "execution_count": null,
      "outputs": [
        {
          "output_type": "stream",
          "text": [
            "Hello\tWorld!\n"
          ],
          "name": "stdout"
        }
      ]
    },
    {
      "cell_type": "markdown",
      "metadata": {
        "id": "_9fWUly3cSdm",
        "colab_type": "text"
      },
      "source": [
        "```python\n",
        "txt = \"hello\"\n",
        "x = txt.center(20)\n",
        "print(x)\n",
        "```"
      ]
    },
    {
      "cell_type": "code",
      "metadata": {
        "id": "s48dj2jO_sxu",
        "colab_type": "code",
        "colab": {}
      },
      "source": [
        ""
      ],
      "execution_count": null,
      "outputs": []
    },
    {
      "cell_type": "markdown",
      "metadata": {
        "id": "Kp0FxyRAcdqv",
        "colab_type": "text"
      },
      "source": [
        "```python\n",
        "txt = \"I love apples, apple are my favorite fruit\"\n",
        "x = txt.count(\"apple\")\n",
        "print(x)\n",
        "```"
      ]
    },
    {
      "cell_type": "code",
      "metadata": {
        "id": "v-5uL5aN_y7R",
        "colab_type": "code",
        "colab": {}
      },
      "source": [
        ""
      ],
      "execution_count": null,
      "outputs": []
    },
    {
      "cell_type": "markdown",
      "metadata": {
        "id": "yl1LwoTNcfwG",
        "colab_type": "text"
      },
      "source": [
        "```python\n",
        "txt = \"Hello, welcome to my world.\"\n",
        "x = txt.endswith(\".\")\n",
        "print(x)\n",
        "```"
      ]
    },
    {
      "cell_type": "code",
      "metadata": {
        "id": "3V_JRqmfADoE",
        "colab_type": "code",
        "colab": {}
      },
      "source": [
        ""
      ],
      "execution_count": null,
      "outputs": []
    },
    {
      "cell_type": "markdown",
      "metadata": {
        "id": "W3WIUKr1c5B2",
        "colab_type": "text"
      },
      "source": [
        "```python\n",
        "txt = \"Hello, welcome to my world.\"\n",
        "x = txt.find(\"welcome\")\n",
        "print(x)\n",
        "```"
      ]
    },
    {
      "cell_type": "code",
      "metadata": {
        "id": "Gl00vNXCALNi",
        "colab_type": "code",
        "colab": {}
      },
      "source": [
        ""
      ],
      "execution_count": null,
      "outputs": []
    }
  ]
}