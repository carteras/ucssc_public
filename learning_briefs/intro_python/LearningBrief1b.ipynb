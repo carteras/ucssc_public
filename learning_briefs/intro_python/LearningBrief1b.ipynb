{
  "nbformat": 4,
  "nbformat_minor": 0,
  "metadata": {
    "colab": {
      "name": "LearningBrief1b.ipynb",
      "provenance": [],
      "authorship_tag": "ABX9TyOLcb81DBcC99TsUnbB/YIG",
      "include_colab_link": true
    },
    "kernelspec": {
      "name": "python3",
      "display_name": "Python 3"
    }
  },
  "cells": [
    {
      "cell_type": "markdown",
      "metadata": {
        "id": "view-in-github",
        "colab_type": "text"
      },
      "source": [
        "<a href=\"https://colab.research.google.com/github/carteras/ucssc_public/blob/master/python_basics%5Clearning_briefs%5CLearningBrief1b.ipynb\" target=\"_parent\"><img src=\"https://colab.research.google.com/assets/colab-badge.svg\" alt=\"Open In Colab\"/></a>"
      ]
    },
    {
      "cell_type": "markdown",
      "metadata": {
        "id": "90l31Fd1CX0X",
        "colab_type": "text"
      },
      "source": [
        "String Methods\n",
        "\n",
        "The string object has a lot of special methods built in. These methods allow you to manipulate or test a various array of things. There are a lot more than I have time to teach. I highly recommend you look at them yourselves. \n",
        "\n",
        "https://docs.python.org/3/library/stdtypes.html#string-methods"
      ]
    },
    {
      "cell_type": "code",
      "metadata": {
        "id": "RaO_1EoB8qqx",
        "colab_type": "code",
        "colab": {}
      },
      "source": [
        "string_with_extra_spaces = \"    hello    \"\n",
        "string_in_capital_letters = \"HELLO!\"\n",
        "string_in_lower_case = \"hello world\""
      ],
      "execution_count": 16,
      "outputs": []
    },
    {
      "cell_type": "code",
      "metadata": {
        "id": "LGhs0waa9SkD",
        "colab_type": "code",
        "colab": {
          "base_uri": "https://localhost:8080/",
          "height": 51
        },
        "outputId": "b2ffe864-41c3-4d45-a462-6d3156c280eb"
      },
      "source": [
        "print(f'[{string_with_extra_spaces}]')\n",
        "print(f'[{string_with_extra_spaces.strip()}]')"
      ],
      "execution_count": 17,
      "outputs": [
        {
          "output_type": "stream",
          "text": [
            "[    hello    ]\n",
            "[hello]\n"
          ],
          "name": "stdout"
        }
      ]
    },
    {
      "cell_type": "code",
      "metadata": {
        "id": "0K4T1NCn9pS4",
        "colab_type": "code",
        "colab": {
          "base_uri": "https://localhost:8080/",
          "height": 34
        },
        "outputId": "9ab4163b-3b10-4462-fb5e-74bdbdcedacf"
      },
      "source": [
        "print(string_in_capital_letters.lower())"
      ],
      "execution_count": 18,
      "outputs": [
        {
          "output_type": "stream",
          "text": [
            "hello!\n"
          ],
          "name": "stdout"
        }
      ]
    },
    {
      "cell_type": "markdown",
      "metadata": {
        "id": "U-sKsInHA_bB",
        "colab_type": "text"
      },
      "source": [
        "**isupper()**\n",
        "\n",
        "The isupper() method returns True if all the characters are in upper case, otherwise False.\n",
        "\n",
        "Numbers, symbols and spaces are not checked, only alphabet characters.\n",
        "\n",
        "**Syntax**\n",
        "```python\n",
        "string.isupper()\n",
        "```\n",
        "\n",
        "Practice: \n",
        "```python\n",
        "print(string_in_lower_case.upper())\n",
        "```"
      ]
    },
    {
      "cell_type": "code",
      "metadata": {
        "id": "0tIm9hPQ9vBB",
        "colab_type": "code",
        "colab": {
          "base_uri": "https://localhost:8080/",
          "height": 34
        },
        "outputId": "a8d8f138-dd26-4b67-c305-e3b2010c2824"
      },
      "source": [
        "print(string_in_lower_case.upper())"
      ],
      "execution_count": 19,
      "outputs": [
        {
          "output_type": "stream",
          "text": [
            "HELLO WORLD\n"
          ],
          "name": "stdout"
        }
      ]
    },
    {
      "cell_type": "code",
      "metadata": {
        "id": "-GEh3g5c9yLN",
        "colab_type": "code",
        "colab": {
          "base_uri": "https://localhost:8080/",
          "height": 34
        },
        "outputId": "2adb7e68-96f0-4988-999f-914629c4176a"
      },
      "source": [
        "print(string_in_lower_case.title())"
      ],
      "execution_count": 20,
      "outputs": [
        {
          "output_type": "stream",
          "text": [
            "Hello World\n"
          ],
          "name": "stdout"
        }
      ]
    },
    {
      "cell_type": "code",
      "metadata": {
        "id": "SqK_lapV-7zZ",
        "colab_type": "code",
        "colab": {
          "base_uri": "https://localhost:8080/",
          "height": 34
        },
        "outputId": "a44b7793-76d5-4ce2-bf46-648d00321396"
      },
      "source": [
        "print(string_in_lower_case.capitalize())"
      ],
      "execution_count": 26,
      "outputs": [
        {
          "output_type": "stream",
          "text": [
            "Hello world\n"
          ],
          "name": "stdout"
        }
      ]
    },
    {
      "cell_type": "code",
      "metadata": {
        "id": "R9_Py5NR94_4",
        "colab_type": "code",
        "colab": {
          "base_uri": "https://localhost:8080/",
          "height": 34
        },
        "outputId": "97d3d89b-ac62-4e8b-bc35-aa9dfb2ec917"
      },
      "source": [
        "print(string_in_lower_case.replace(\"h\", \"j\"))"
      ],
      "execution_count": 21,
      "outputs": [
        {
          "output_type": "stream",
          "text": [
            "jello world\n"
          ],
          "name": "stdout"
        }
      ]
    },
    {
      "cell_type": "code",
      "metadata": {
        "id": "MaqIZse1-EA0",
        "colab_type": "code",
        "colab": {}
      },
      "source": [
        "text = \"The quick brown fox jumps over the lazy dog.\""
      ],
      "execution_count": 22,
      "outputs": []
    },
    {
      "cell_type": "code",
      "metadata": {
        "id": "JWB15YRW-PYe",
        "colab_type": "code",
        "colab": {
          "base_uri": "https://localhost:8080/",
          "height": 34
        },
        "outputId": "0af76a83-a2cb-4112-88f9-0b29b788e070"
      },
      "source": [
        "print(\"dog\" in text)"
      ],
      "execution_count": 23,
      "outputs": [
        {
          "output_type": "stream",
          "text": [
            "True\n"
          ],
          "name": "stdout"
        }
      ]
    },
    {
      "cell_type": "code",
      "metadata": {
        "id": "Jw8esksa-Zuk",
        "colab_type": "code",
        "colab": {
          "base_uri": "https://localhost:8080/",
          "height": 34
        },
        "outputId": "3f5d2f60-0571-4d6b-f1da-54098d333436"
      },
      "source": [
        "print(\"a\" in text)"
      ],
      "execution_count": 24,
      "outputs": [
        {
          "output_type": "stream",
          "text": [
            "True\n"
          ],
          "name": "stdout"
        }
      ]
    },
    {
      "cell_type": "code",
      "metadata": {
        "id": "CzM_gDvR-lFg",
        "colab_type": "code",
        "colab": {
          "base_uri": "https://localhost:8080/",
          "height": 34
        },
        "outputId": "7691fdff-dc2b-4ad1-e121-5ebc39dec17e"
      },
      "source": [
        "escape_characters_in_text = 'I\\'m a little teapot'\n",
        "print(escape_characters_in_text)"
      ],
      "execution_count": 25,
      "outputs": [
        {
          "output_type": "stream",
          "text": [
            "I'm a little teapot\n"
          ],
          "name": "stdout"
        }
      ]
    },
    {
      "cell_type": "code",
      "metadata": {
        "id": "z-fWDlhr_MRq",
        "colab_type": "code",
        "colab": {
          "base_uri": "https://localhost:8080/",
          "height": 34
        },
        "outputId": "8bf388c8-6e70-4f22-edbb-9bb8e80d2f6e"
      },
      "source": [
        "txt = \"This will insert one \\\\ backslash.\"\n",
        "print(txt) "
      ],
      "execution_count": 28,
      "outputs": [
        {
          "output_type": "stream",
          "text": [
            "This will insert one \\ backslash.\n"
          ],
          "name": "stdout"
        }
      ]
    },
    {
      "cell_type": "code",
      "metadata": {
        "id": "CCz2BEeu_SBi",
        "colab_type": "code",
        "colab": {
          "base_uri": "https://localhost:8080/",
          "height": 51
        },
        "outputId": "21137a06-df85-4976-edc6-0bf6d9d174ab"
      },
      "source": [
        "txt = \"Hello\\nWorld!\"\n",
        "print(txt) "
      ],
      "execution_count": 29,
      "outputs": [
        {
          "output_type": "stream",
          "text": [
            "Hello\n",
            "World!\n"
          ],
          "name": "stdout"
        }
      ]
    },
    {
      "cell_type": "code",
      "metadata": {
        "id": "JvGV7jYK_bRc",
        "colab_type": "code",
        "colab": {
          "base_uri": "https://localhost:8080/",
          "height": 34
        },
        "outputId": "1cd4602f-5e9c-44d0-8ccc-2316db84a0fe"
      },
      "source": [
        "txt = \"Hello\\tWorld!\"\n",
        "print(txt) "
      ],
      "execution_count": 32,
      "outputs": [
        {
          "output_type": "stream",
          "text": [
            "Hello\tWorld!\n"
          ],
          "name": "stdout"
        }
      ]
    },
    {
      "cell_type": "code",
      "metadata": {
        "id": "s48dj2jO_sxu",
        "colab_type": "code",
        "colab": {
          "base_uri": "https://localhost:8080/",
          "height": 34
        },
        "outputId": "69bcaea1-cf43-4ccc-c632-1a7f827a28f8"
      },
      "source": [
        "txt = \"hello\"\n",
        "x = txt.center(20)\n",
        "print(x)"
      ],
      "execution_count": 35,
      "outputs": [
        {
          "output_type": "stream",
          "text": [
            "       hello        \n"
          ],
          "name": "stdout"
        }
      ]
    },
    {
      "cell_type": "code",
      "metadata": {
        "id": "v-5uL5aN_y7R",
        "colab_type": "code",
        "colab": {
          "base_uri": "https://localhost:8080/",
          "height": 34
        },
        "outputId": "29c766c3-9dd2-4662-cbbf-23717a320567"
      },
      "source": [
        "txt = \"I love apples, apple are my favorite fruit\"\n",
        "x = txt.count(\"apple\")\n",
        "print(x)"
      ],
      "execution_count": 36,
      "outputs": [
        {
          "output_type": "stream",
          "text": [
            "2\n"
          ],
          "name": "stdout"
        }
      ]
    },
    {
      "cell_type": "code",
      "metadata": {
        "id": "3V_JRqmfADoE",
        "colab_type": "code",
        "colab": {
          "base_uri": "https://localhost:8080/",
          "height": 34
        },
        "outputId": "a8f5e6f2-1ffe-4226-ca75-2bf4827e6354"
      },
      "source": [
        "txt = \"Hello, welcome to my world.\"\n",
        "x = txt.endswith(\".\")\n",
        "print(x)"
      ],
      "execution_count": 39,
      "outputs": [
        {
          "output_type": "stream",
          "text": [
            "True\n"
          ],
          "name": "stdout"
        }
      ]
    },
    {
      "cell_type": "code",
      "metadata": {
        "id": "Gl00vNXCALNi",
        "colab_type": "code",
        "colab": {
          "base_uri": "https://localhost:8080/",
          "height": 34
        },
        "outputId": "6a6ca84f-0307-499b-8e22-add9cb6f658f"
      },
      "source": [
        "txt = \"Hello, welcome to my world.\"\n",
        "x = txt.find(\"welcome\")\n",
        "print(x)"
      ],
      "execution_count": 41,
      "outputs": [
        {
          "output_type": "stream",
          "text": [
            "7\n"
          ],
          "name": "stdout"
        }
      ]
    },
    {
      "cell_type": "markdown",
      "metadata": {
        "id": "TJK7kyhTCWpI",
        "colab_type": "text"
      },
      "source": [
        ""
      ]
    }
  ]
}