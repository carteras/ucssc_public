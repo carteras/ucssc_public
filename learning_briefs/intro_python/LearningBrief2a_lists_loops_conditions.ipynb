{
  "nbformat": 4,
  "nbformat_minor": 0,
  "metadata": {
    "colab": {
      "name": "LearningBrief2a_lists_loops_conditions.ipynb",
      "provenance": [],
      "collapsed_sections": []
    },
    "kernelspec": {
      "name": "python3",
      "display_name": "Python 3"
    }
  },
  "cells": [
    {
      "cell_type": "markdown",
      "metadata": {
        "id": "R8InYlehie1y",
        "colab_type": "text"
      },
      "source": [
        "#Goals:\n",
        "\n",
        "\n",
        "* Know what Lists are and what common syntax exists to manipulate them\n",
        "* Gain a broad understanding of how to use lists to solve foundation problems.\n",
        "* Know what conditions are. \n",
        "* Understand how to use simple conditions to make decisions\n",
        "\n",
        "\n"
      ]
    },
    {
      "cell_type": "markdown",
      "metadata": {
        "id": "hLPR21ic7Skz",
        "colab_type": "text"
      },
      "source": [
        "##Conceptual Links:\n",
        "\n",
        "Google for Education: [Lists methods](https://developers.google.com/edu/python/lists)  \n",
        "Python-Textbook: [selection control statements](https://python-textbok.readthedocs.io/en/1.0/Selection_Control_Statements.html)"
      ]
    },
    {
      "cell_type": "markdown",
      "metadata": {
        "id": "CmspWDsej7dM",
        "colab_type": "text"
      },
      "source": [
        "##What is a list? \n",
        "\n",
        "A list is a collection of items. Lists can be made from anything, the letters of the alphabet, the names of your classmates, the words in a secret cipher, the ages of your family. Lists can even be made up of different things. \n",
        "\n",
        "Think of them a bit like a set of draws, the top draw might be for underwear and socks, the second draw might be for shirts, the third draw might be for pants. \n",
        "\n",
        "Because lists generally hold multiple things it's best to make the name of your list a plural. words, names, bicycles, are all good descriptive names for lists. \n"
      ]
    },
    {
      "cell_type": "markdown",
      "metadata": {
        "id": "bgX1eEuCg9H1",
        "colab_type": "text"
      },
      "source": [
        "In python, a list is indicated by the use of square brackets `[]`. \n",
        "\n",
        "Here is an example: \n",
        "\n",
        "```python\n",
        "swords = ['mortuary', 'arming', 'longsword', 'sabre']\n",
        "print(swords)\n",
        "```\n",
        "\n",
        "Here, I create a list of strings with the name of various types of swords. I then assign that list of strings to a variable called swords. "
      ]
    },
    {
      "cell_type": "markdown",
      "metadata": {
        "colab_type": "text",
        "id": "h-7f_ZKQhEZG"
      },
      "source": [
        "###![alt text](https://)Accessing elements in a list \n",
        "\n",
        "Lists are ordered collections. This means that they remain in the order that you left them in. By doing this, it becomes possible to access elements in the list if you know it's position or index. \n",
        "\n",
        "To access an element in a list, we use the lists variable name followed by the index position of the item in square brackets. \n",
        "\n",
        "For example, using my list of sword names, I can access the first sword name. \n",
        "\n",
        "```python\n",
        "print(swords[0])\n",
        "```\n",
        "\n"
      ]
    },
    {
      "cell_type": "code",
      "metadata": {
        "id": "2AbX1ySYtReq",
        "colab_type": "code",
        "colab": {}
      },
      "source": [
        ""
      ],
      "execution_count": null,
      "outputs": []
    },
    {
      "cell_type": "markdown",
      "metadata": {
        "id": "T6yfbYM3pxLl",
        "colab_type": "text"
      },
      "source": [
        "It's important to note here, that indexes start at 0, not 1. This is because the number line starts at 0, not 1. \n",
        "\n",
        "00, 01, 02, 03, 04, 05, 06, 07, 08, 09  \n",
        "10, 11, 12, 13, 14, 15, 16, 17, 18, ,19\n",
        "\n",
        "and so on..."
      ]
    },
    {
      "cell_type": "markdown",
      "metadata": {
        "colab_type": "text",
        "id": "5D17NQeChIqr"
      },
      "source": [
        "This use of an element in a list can be used like any other variable. Below, I have an f-string that is using the index position of the first sword.   \n",
        "\n",
        "NOTE: This uses some tricks from Learningbrief1b which talks about string methods. String methods are a way to manipulate strings. Go [check it out if the tricks don't make sense](https://github.com/carteras/ucssc_public/blob/master/learning_briefs/intro_python/LearningBrief1b.ipynb)! \n",
        "\n",
        "```python\n",
        "first_sword = f'My first sword was a {swords[0].title()}.'\n",
        "print(first_sword)\n",
        "```"
      ]
    },
    {
      "cell_type": "code",
      "metadata": {
        "id": "lFnKyDq0tn95",
        "colab_type": "code",
        "colab": {}
      },
      "source": [
        ""
      ],
      "execution_count": null,
      "outputs": []
    },
    {
      "cell_type": "markdown",
      "metadata": {
        "colab_type": "text",
        "id": "BMhGHFs3hLEs"
      },
      "source": [
        "###Modifying lists\n",
        "\n",
        "It is possible to change an element of a list dynamically simply by reassigning the value that the indexed variable points at. \n",
        "\n",
        "```python\n",
        "shields = ['round', 'buckler', 'heater']\n",
        "print(shields)\n",
        "shields[0] = 'kite'\n",
        "print(shields)\n",
        "```"
      ]
    },
    {
      "cell_type": "code",
      "metadata": {
        "id": "AI_hj2xxtyMq",
        "colab_type": "code",
        "colab": {}
      },
      "source": [
        ""
      ],
      "execution_count": null,
      "outputs": []
    },
    {
      "cell_type": "markdown",
      "metadata": {
        "colab_type": "text",
        "id": "wVD0JGj8hMTd"
      },
      "source": [
        "###Adding new items to a list \n",
        "\n",
        "Python lists have an inbuilt tool that allows you to append items to the end of a list. This tool is called `append(object)`. \n",
        "\n",
        "```python\n",
        "shield.append('targe')\n",
        "print(shield)\n",
        "```"
      ]
    },
    {
      "cell_type": "code",
      "metadata": {
        "id": "DXucuM8wqydM",
        "colab_type": "code",
        "colab": {}
      },
      "source": [
        ""
      ],
      "execution_count": null,
      "outputs": []
    },
    {
      "cell_type": "markdown",
      "metadata": {
        "id": "jQDJ6bKoq3NO",
        "colab_type": "text"
      },
      "source": [
        "###Adding new items of the list at specific locations\n",
        "\n",
        "Python also has tools to insert elements specifically where you want them. `insert(index, object)`. \n",
        "\n",
        "```python\n",
        "shield.insert(0, 'pavise')\n",
        "print(shield)\n",
        "```"
      ]
    },
    {
      "cell_type": "code",
      "metadata": {
        "id": "QpH42avjuCWz",
        "colab_type": "code",
        "colab": {}
      },
      "source": [
        ""
      ],
      "execution_count": null,
      "outputs": []
    },
    {
      "cell_type": "markdown",
      "metadata": {
        "colab_type": "text",
        "id": "CB-poe8hhNYg"
      },
      "source": [
        "###Removing items from lists\n",
        "\n",
        "Removing items from lists can be dangerous, so before you start doing this, think to yourself, do I really need to do this right now? \n",
        "\n",
        "To delete a specific element from a list, we can use the del command. \n",
        "\n",
        "```python\n",
        "del shield[0]\n",
        "print(shield)\n",
        "```"
      ]
    },
    {
      "cell_type": "code",
      "metadata": {
        "id": "VHb1f9aJuTr4",
        "colab_type": "code",
        "colab": {}
      },
      "source": [
        ""
      ],
      "execution_count": null,
      "outputs": []
    },
    {
      "cell_type": "markdown",
      "metadata": {
        "colab_type": "text",
        "id": "wmfojkYuhN1K"
      },
      "source": [
        "What happens if you don't know what element you want to remove? Python has a tool that will access the list and search it for you. \n",
        "\n",
        "```python\n",
        "shield.remove('pavise')\n",
        "print(shield)\n",
        "```"
      ]
    },
    {
      "cell_type": "code",
      "metadata": {
        "id": "rH-5JqCEub3I",
        "colab_type": "code",
        "colab": {}
      },
      "source": [
        ""
      ],
      "execution_count": null,
      "outputs": []
    },
    {
      "cell_type": "markdown",
      "metadata": {
        "colab_type": "text",
        "id": "BhG5E-jBhOPM"
      },
      "source": [
        "###Sorting lists\n",
        "\n",
        "Now we have been adding and removing items from our list for what seems like hours, how do we make our list all ordered and beautiful? \n",
        "\n",
        "Python provides us with a tool that will attempt to sort lists. In the case of strings and numbers, this sorting is easy: \n",
        "\n",
        "```python\n",
        "shield.sort()\n",
        "print(shield)\n",
        "```\n",
        "\n",
        "More complex datastructures and objects can also be sorted, but we will cross that bridge when we come to it. "
      ]
    },
    {
      "cell_type": "code",
      "metadata": {
        "id": "ttXF4A-6uj6Q",
        "colab_type": "code",
        "colab": {}
      },
      "source": [
        ""
      ],
      "execution_count": null,
      "outputs": []
    },
    {
      "cell_type": "markdown",
      "metadata": {
        "colab_type": "text",
        "id": "56IiWLR_hPIl"
      },
      "source": [
        "###Iterating through lists\n",
        "\n",
        "One of the most common tools for working through a lot of data are loops. Python comes with a number of loops but today we are going to work on for loops. \n",
        "\n",
        "You can think of for loops like this: `for each item in a list -> do something`\n",
        "\n",
        "```python\n",
        "knights = ['alice', 'bob', 'charlie']\n",
        "for knight in knights: # a common technique is to use the single term for the variable\n",
        "  print(knight)\n",
        "```"
      ]
    },
    {
      "cell_type": "code",
      "metadata": {
        "id": "7nVzC1jduvx3",
        "colab_type": "code",
        "colab": {}
      },
      "source": [
        ""
      ],
      "execution_count": null,
      "outputs": []
    },
    {
      "cell_type": "markdown",
      "metadata": {
        "colab_type": "text",
        "id": "_rCFju92hPmQ"
      },
      "source": [
        "Once the for loop variable has been initialised, you can use the variable as you would any other variable. \n",
        "\n",
        "```python\n",
        "for knight in knights:\n",
        "  print(knight.title())\n",
        "```"
      ]
    },
    {
      "cell_type": "code",
      "metadata": {
        "id": "2DHiZPo5u97w",
        "colab_type": "code",
        "colab": {}
      },
      "source": [
        ""
      ],
      "execution_count": null,
      "outputs": []
    },
    {
      "cell_type": "markdown",
      "metadata": {
        "colab_type": "text",
        "id": "a-1J6hfJhP_r"
      },
      "source": [
        "This use/reuse of a the loop variable is true for multiple uses in the same iteration. \n",
        "\n",
        "```python\n",
        "for knight in knights:\n",
        "  print(f'{knight.title()}, that was a great fight!')\n",
        "  print(f\"I can't wait to see your next bought {knight.title()}\")\n",
        "```"
      ]
    },
    {
      "cell_type": "code",
      "metadata": {
        "id": "3Qy-4w5avDBU",
        "colab_type": "code",
        "colab": {}
      },
      "source": [
        ""
      ],
      "execution_count": null,
      "outputs": []
    },
    {
      "cell_type": "markdown",
      "metadata": {
        "colab_type": "text",
        "id": "SykiTUbphQds"
      },
      "source": [
        "Once a loop has finished it rejoins the natural procedure of the program. \n",
        "\n",
        "```python\n",
        "for knight in knights:\n",
        "  print(f'{knight.title()}, that was a great fight!')\n",
        "  print(f\"I can't wait to see your next bought {knight.title()}\")\n",
        "print(\"Thank you, everyone! That what a great tournament!\")\n",
        "```"
      ]
    },
    {
      "cell_type": "code",
      "metadata": {
        "id": "mLt-TwEZvWtC",
        "colab_type": "code",
        "colab": {}
      },
      "source": [
        "\n"
      ],
      "execution_count": null,
      "outputs": []
    },
    {
      "cell_type": "markdown",
      "metadata": {
        "colab_type": "text",
        "id": "nLxv6kMwhRJs"
      },
      "source": [
        "###Creating lists dynamically\n",
        "\n",
        "Technically speaking this is not a best practice in Python, but the ideology is broadly used in other programming languages. \n",
        "\n",
        "Sometimes we find a need to dynamically create a list of numbers to use in our loop. The range function allows us to create a list of numbers. \n",
        "\n",
        "```python\n",
        "for value in range(1, 5):\n",
        "  print(value)\n",
        "```"
      ]
    },
    {
      "cell_type": "code",
      "metadata": {
        "id": "QU029dZ3vlKs",
        "colab_type": "code",
        "colab": {}
      },
      "source": [
        ""
      ],
      "execution_count": null,
      "outputs": []
    },
    {
      "cell_type": "markdown",
      "metadata": {
        "colab_type": "text",
        "id": "r_fhvmrChRlT"
      },
      "source": [
        "```python\n",
        "numbers = list(range(1, 5))\n",
        "print(numbers)\n",
        "```"
      ]
    },
    {
      "cell_type": "code",
      "metadata": {
        "id": "EesojoypvtSM",
        "colab_type": "code",
        "colab": {}
      },
      "source": [
        ""
      ],
      "execution_count": null,
      "outputs": []
    },
    {
      "cell_type": "markdown",
      "metadata": {
        "colab_type": "text",
        "id": "oWYZg2pNhSI_"
      },
      "source": [
        "```python\n",
        "squared_numbers = []\n",
        "for value in range(1, 11):\n",
        "  square = value**2\n",
        "  squared_numbers.append(square)\n",
        "\n",
        "print(squared_numbers)\n",
        "```"
      ]
    },
    {
      "cell_type": "code",
      "metadata": {
        "id": "c-nhdQf3vzqi",
        "colab_type": "code",
        "colab": {
          "base_uri": "https://localhost:8080/",
          "height": 34
        },
        "outputId": "39507ad2-0fa4-40f4-c1da-e5b3d8373f29"
      },
      "source": [
        ""
      ],
      "execution_count": null,
      "outputs": [
        {
          "output_type": "stream",
          "text": [
            "[1, 4, 9, 16, 25, 36, 49, 64, 81, 100]\n"
          ],
          "name": "stdout"
        }
      ]
    },
    {
      "cell_type": "markdown",
      "metadata": {
        "colab_type": "text",
        "id": "35AWItb8hS0E"
      },
      "source": [
        "Some neet tools for numbers in lists: \n",
        "\n",
        "```python\n",
        "print(min(squared_numbers))\n",
        "print(max(squared_numbers))\n",
        "print(sum(squared_numbers))\n",
        "```"
      ]
    },
    {
      "cell_type": "code",
      "metadata": {
        "id": "SCzSMt0hv_do",
        "colab_type": "code",
        "colab": {}
      },
      "source": [
        ""
      ],
      "execution_count": null,
      "outputs": []
    },
    {
      "cell_type": "markdown",
      "metadata": {
        "colab_type": "text",
        "id": "E0lrivoshTao"
      },
      "source": [
        "##Conditions\n",
        "\n",
        "Programming involves examining a set of conditions and deciding which action to take based off of those conditions. \n",
        "\n",
        "In python, we test conditions with the following statements. \n",
        "\n",
        "```python\n",
        "if (condition1):\n",
        "  #do_something\n",
        "elif (condition2):\n",
        "  #do_something_else\n",
        "else: \n",
        "  #do_some_final_thing\n",
        "```\n",
        "\n",
        "```python\n",
        "armours = ['gamberson', 'chainmail', 'plate', 'scale']\n",
        "for armour in armours:\n",
        "  if armour == \"plate\":\n",
        "    print(armour.upper())\n",
        "  else:\n",
        "    print(armour.title())\n",
        "```"
      ]
    },
    {
      "cell_type": "code",
      "metadata": {
        "id": "O8_mzxWrwJ7y",
        "colab_type": "code",
        "colab": {}
      },
      "source": [
        ""
      ],
      "execution_count": null,
      "outputs": []
    },
    {
      "cell_type": "markdown",
      "metadata": {
        "id": "00yWUVG9vAAU",
        "colab_type": "text"
      },
      "source": [
        "###So many equal signs\n",
        "\n",
        "One of the things about programming is that we end up with a lot of different operators that use the equals sign `=` for something. E.g., \n",
        "\n",
        "`=, ==, >=, <=, !=, +=, -=, *-, /=, %=` \n",
        "\n",
        "Visually, they are fairly straight forewards. However, verbally, this becomes much more complicated; especially with `=, and ==`. \n",
        "\n",
        "To combat this, I use some verbal cues: \n",
        "\n",
        "`=` means 'is assigned' or 'gets the value of something' so I call it assign or gets\n",
        "\n",
        "'==' means we are testing the logical conditionality of the statment. So I say equivliant to. \n"
      ]
    },
    {
      "cell_type": "markdown",
      "metadata": {
        "colab_type": "text",
        "id": "FTwn3r_FhT7p"
      },
      "source": [
        "###Test for equivliancy\n",
        "\n",
        "To test for equivliancy we use `==`\n",
        "\n",
        "```python\n",
        "armour = 'plate'\n",
        "print(armour == 'plate', armour == 'scale')\n",
        "```"
      ]
    },
    {
      "cell_type": "code",
      "metadata": {
        "id": "n-qK0a5QwXkH",
        "colab_type": "code",
        "colab": {}
      },
      "source": [
        ""
      ],
      "execution_count": null,
      "outputs": []
    },
    {
      "cell_type": "markdown",
      "metadata": {
        "colab_type": "text",
        "id": "skPK1zNYhUhB"
      },
      "source": [
        "### Testing for not equivliant\n",
        "To test for not equivliant we use `!=`\n",
        "\n",
        "```python\n",
        "print(armour != \"plate\", armour != \"scale\")\n",
        "```"
      ]
    },
    {
      "cell_type": "code",
      "metadata": {
        "id": "l2JKEFACwkWH",
        "colab_type": "code",
        "colab": {}
      },
      "source": [
        ""
      ],
      "execution_count": null,
      "outputs": []
    },
    {
      "cell_type": "markdown",
      "metadata": {
        "colab_type": "text",
        "id": "grBPhy-3hVDX"
      },
      "source": [
        "###Other conditions\n",
        "We can also test some other common conditions such as greater than or equal to, less than or equal to, etc. \n",
        "\n",
        "```python\n",
        "age1 = 16\n",
        "print(age1 >= 15 and age1 <= 18)\n",
        "print(age1 <15 or age1 < 18)\n",
        "```"
      ]
    },
    {
      "cell_type": "code",
      "metadata": {
        "id": "iOEtl2ylwqh1",
        "colab_type": "code",
        "colab": {}
      },
      "source": [
        ""
      ],
      "execution_count": null,
      "outputs": []
    },
    {
      "cell_type": "markdown",
      "metadata": {
        "id": "KdGsgtOkwsKK",
        "colab_type": "text"
      },
      "source": [
        "### Testing to see if something is in a list\n",
        "\n",
        "There are some other conditions tests we can use. For example, we can test to see if a object is in a list with the `in` operator. \n",
        "\n",
        "```python\n",
        "toppings = ['mushrooms', 'onions', 'pineapple']\n",
        "print('mushrooms' in toppings)\n",
        "```"
      ]
    },
    {
      "cell_type": "code",
      "metadata": {
        "id": "-6BscPmIwz-T",
        "colab_type": "code",
        "colab": {}
      },
      "source": [
        ""
      ],
      "execution_count": null,
      "outputs": []
    },
    {
      "cell_type": "markdown",
      "metadata": {
        "colab_type": "text",
        "id": "vNtpL5_AhWC2"
      },
      "source": [
        "Likewise, we can test to see if an object is not in a list\n",
        "\n",
        "```python\n",
        "print('apple' not in toppings)\n",
        "```"
      ]
    },
    {
      "cell_type": "code",
      "metadata": {
        "id": "_0RrZHlow6XS",
        "colab_type": "code",
        "colab": {}
      },
      "source": [
        ""
      ],
      "execution_count": null,
      "outputs": []
    },
    {
      "cell_type": "markdown",
      "metadata": {
        "colab_type": "text",
        "id": "OmfdrOlxhWj_"
      },
      "source": [
        "###Selection Statements (if/elif/else)\n",
        "\n",
        "We can string `if, elif, else` statements together to test potential conditions. \n",
        "\n",
        "```python\n",
        "topping = 'pineapple'\n",
        "if topping == 'mushrooms':\n",
        "  print(\"YES! Mushrooms!\")\n",
        "elif topping == 'onions':\n",
        "  print(\"NO! Not onions!\")\n",
        "elif toppings == \"pineapple\":\n",
        "  print(\"Ah, the fruit that tries to eat you!\")\n",
        "else:\n",
        "  print(\"What topping is this?\")\n",
        "```"
      ]
    },
    {
      "cell_type": "code",
      "metadata": {
        "id": "NILhsqtlw_MP",
        "colab_type": "code",
        "colab": {}
      },
      "source": [
        ""
      ],
      "execution_count": null,
      "outputs": []
    },
    {
      "cell_type": "markdown",
      "metadata": {
        "colab_type": "text",
        "id": "Oa4rqjVvhXEN"
      },
      "source": [
        "###Selection statements in loops\n",
        "\n",
        "We can also embed selection statements inside loops to create branching logic within the loop. \n",
        "\n",
        "```python\n",
        "requested_toppings = ['mushrooms', 'capsicum', 'extra cheese']\n",
        "for topping in requested_toppings:\n",
        "  if topping == 'capsicum':\n",
        "    print(\"Sorry, we are out of capsicum at the moment\")\n",
        "  else: \n",
        "    print(f'Adding {topping} to your pizza')\n",
        "print(\"making your pizza now!\")\n",
        "```"
      ]
    },
    {
      "cell_type": "code",
      "metadata": {
        "id": "dR__EKfb7_DB",
        "colab_type": "code",
        "colab": {}
      },
      "source": [
        ""
      ],
      "execution_count": null,
      "outputs": []
    },
    {
      "cell_type": "markdown",
      "metadata": {
        "id": "03gznR_T1-U3",
        "colab_type": "text"
      },
      "source": [
        "##Practice Questions\n"
      ]
    },
    {
      "cell_type": "code",
      "metadata": {
        "id": "dODV0qGt2Ff5",
        "colab_type": "code",
        "colab": {}
      },
      "source": [
        "'''Names: Store a list of the names of a few of your friends in a list called \n",
        "names. Print each person’s name by accessing each element in the list, one a \n",
        "time'''\n",
        "\n"
      ],
      "execution_count": null,
      "outputs": []
    },
    {
      "cell_type": "code",
      "metadata": {
        "id": "GgtJ7m-g2OpG",
        "colab_type": "code",
        "colab": {}
      },
      "source": [
        "'''Greetings: Start with the list from question 1, but instead of just printing \n",
        "each person’s name, print a message to them. The text of each message should be \n",
        "the same but each message should be personalised with the person’s name'''\n"
      ],
      "execution_count": null,
      "outputs": []
    },
    {
      "cell_type": "code",
      "metadata": {
        "id": "7tJIR7Il2Vq3",
        "colab_type": "code",
        "colab": {}
      },
      "source": [
        "'''Your own list: Think of your favourite modes of transportation, such as a \n",
        "motorcycle or car, and make a list that stores several examples. Use your list \n",
        "to print a series of statements about these items, such as “I would like to own \n",
        "a Honda motorcycle”. '''\n"
      ],
      "execution_count": null,
      "outputs": []
    },
    {
      "cell_type": "code",
      "metadata": {
        "id": "1-rlrjSi2e6n",
        "colab_type": "code",
        "colab": {}
      },
      "source": [
        "'''\n",
        "Guest list: If you could invite anybody from now or from history, to dinner, \n",
        "who would you invite? Make a list that includes at least three people you’d \n",
        "like to invite to dinner. Then use your list to print a message to each \n",
        "person, inviting them to dinner.\n",
        "'''\n",
        "\n"
      ],
      "execution_count": null,
      "outputs": []
    },
    {
      "cell_type": "code",
      "metadata": {
        "id": "m1OGteVv2jY_",
        "colab_type": "code",
        "colab": {}
      },
      "source": [
        "'''\n",
        "Changing Guest List: You just heard that one of your guests can’t make dinner, \n",
        "so you need to send out a new set of invitations. You’ll have to think of \n",
        "someone else to invite. \n",
        "\n",
        "Start with your program from Question 4. Add a print statement at the end of \n",
        "your program stating the name of the guest who can’t make it.\n",
        "\n",
        "Modify your list, replacing the name of the guest who can’t make it with the \n",
        "name of the new person you are inviting.\n",
        "\n",
        "Print a second set of invitation messages, one for each person who is still \n",
        "in your list.\n",
        "'''"
      ],
      "execution_count": null,
      "outputs": []
    },
    {
      "cell_type": "markdown",
      "metadata": {
        "id": "VzZp_5m63P-C",
        "colab_type": "text"
      },
      "source": [
        "**Challenge Question(s)**\n",
        "\n",
        "**Every Function!** Think of a few things that you could store in a list. For example, it could be pizzas, locations, your best friends names, or anything else you would like. Write a program that creates that list containing these items and then uses each function introduced in this learning brief at least once. \n",
        " \n",
        "\n"
      ]
    },
    {
      "cell_type": "code",
      "metadata": {
        "id": "tfXi89UC4uiH",
        "colab_type": "code",
        "colab": {}
      },
      "source": [
        "#Fix my terrible code: \n",
        "\n",
        "thingos = ['thing', 'other_thing', \"another_thing\"]\n",
        "\n",
        "for i in range(1, 10):\n",
        "  print(thingo[i])"
      ],
      "execution_count": null,
      "outputs": []
    },
    {
      "cell_type": "code",
      "metadata": {
        "id": "FbSi27n34_0M",
        "colab_type": "code",
        "colab": {}
      },
      "source": [
        "#Fix my terrible code: \n",
        "different_thingos = [1, 2, 3, 4, 5]:\n",
        "for i in different_thingos: \n",
        "  if i == 2:\n",
        "    different_thingos.remove(different_thingos[i])\n",
        "print(different_thingos)"
      ],
      "execution_count": null,
      "outputs": []
    },
    {
      "cell_type": "code",
      "metadata": {
        "id": "6x-4HiLO6SIR",
        "colab_type": "code",
        "colab": {}
      },
      "source": [
        "#Fix my terrible code\n",
        "foo = True\n",
        "\n",
        "if foo = True:\n",
        "  print(\"success\")\n",
        "else: \n",
        "  print(\"what?\")"
      ],
      "execution_count": null,
      "outputs": []
    }
  ]
}