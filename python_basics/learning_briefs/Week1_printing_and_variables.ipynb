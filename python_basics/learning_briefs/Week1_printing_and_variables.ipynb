{
  "nbformat": 4,
  "nbformat_minor": 0,
  "metadata": {
    "colab": {
      "name": "Week1_printing_and_variables.ipynb",
      "provenance": [],
      "authorship_tag": "ABX9TyPyHFKrhylvmQf2zvS445bo",
      "include_colab_link": true
    },
    "kernelspec": {
      "name": "python3",
      "display_name": "Python 3"
    }
  },
  "cells": [
    {
      "cell_type": "markdown",
      "metadata": {
        "id": "view-in-github",
        "colab_type": "text"
      },
      "source": [
        "<a href=\"https://colab.research.google.com/github/carteras/ucssc_public/blob/master/python_basics/learning_briefs/Week1_printing_and_variables.ipynb\" target=\"_parent\"><img src=\"https://colab.research.google.com/assets/colab-badge.svg\" alt=\"Open In Colab\"/></a>"
      ]
    },
    {
      "cell_type": "markdown",
      "metadata": {
        "id": "pPH6eAjvwv9Y",
        "colab_type": "text"
      },
      "source": [
        "**Goals:** \n",
        "\n",
        "\n",
        "*   Know how to use python to print strings and variables to the console line\n",
        "*   Know what variables are and understand the basics of manipulating them\n",
        "*   Know what functions are and understand how to implement basic ones\n",
        "\n",
        "**Conceptual Links:** \n",
        "\n",
        "Python: [input/output](https://docs.python.org/3/tutorial/inputoutput.html)  \n",
        "Tutorial Point: [variables](https://www.tutorialspoint.com/python/python_variable_types.htm) \n"
      ]
    },
    {
      "cell_type": "markdown",
      "metadata": {
        "id": "m3VJxB-ky8B7",
        "colab_type": "text"
      },
      "source": [
        "**Dictionary Corner:** \n"
      ]
    },
    {
      "cell_type": "markdown",
      "metadata": {
        "id": "6arwdCMUy-ib",
        "colab_type": "text"
      },
      "source": [
        "**Worked Examples:** \n",
        "\n",
        "Printing a single string  \n",
        "```python\n",
        "print(\"Hello, world\")\n",
        "```\n",
        "\n",
        "\n",
        "\n",
        "\n"
      ]
    },
    {
      "cell_type": "code",
      "metadata": {
        "id": "WLIKQ9X-TGRI",
        "colab_type": "code",
        "colab": {
          "base_uri": "https://localhost:8080/",
          "height": 34
        },
        "outputId": "22bfbfa2-084e-4635-d8a9-34ad92d06ff9"
      },
      "source": [
        "print(\"Hello, world\")"
      ],
      "execution_count": null,
      "outputs": [
        {
          "output_type": "stream",
          "text": [
            "Hello, world\n"
          ],
          "name": "stdout"
        }
      ]
    },
    {
      "cell_type": "markdown",
      "metadata": {
        "id": "H20vT53GTEin",
        "colab_type": "text"
      },
      "source": [
        "Printing two strings:  \n",
        "```python\n",
        "print(\"Hello\", \"world\")\n",
        "```"
      ]
    },
    {
      "cell_type": "code",
      "metadata": {
        "id": "8RXfFPxvTG3y",
        "colab_type": "code",
        "colab": {}
      },
      "source": [
        ""
      ],
      "execution_count": null,
      "outputs": []
    },
    {
      "cell_type": "markdown",
      "metadata": {
        "id": "lmJtQlr8TCRu",
        "colab_type": "text"
      },
      "source": [
        "Printing a variable:   \n",
        "```python\n",
        "foo = \"output\"\n",
        "print(foo)\n",
        "```"
      ]
    },
    {
      "cell_type": "code",
      "metadata": {
        "id": "a9Tf30YUTHmJ",
        "colab_type": "code",
        "colab": {}
      },
      "source": [
        ""
      ],
      "execution_count": null,
      "outputs": []
    },
    {
      "cell_type": "markdown",
      "metadata": {
        "id": "W21VggnmS_Dq",
        "colab_type": "text"
      },
      "source": [
        "Concatinating Strings\n",
        "```python\n",
        "print(\"Ada\" + \"Lovelace\")\n",
        "```"
      ]
    },
    {
      "cell_type": "code",
      "metadata": {
        "id": "X_efDR7pTIVs",
        "colab_type": "code",
        "colab": {}
      },
      "source": [
        ""
      ],
      "execution_count": null,
      "outputs": []
    },
    {
      "cell_type": "markdown",
      "metadata": {
        "id": "9BlcQwONS6FJ",
        "colab_type": "text"
      },
      "source": [
        "Using f-strings\n",
        "```python\n",
        "given_name = 'Ada'\n",
        "family_name = 'Lovelace\n",
        "print(f\"The first programmer's name was {given_name} {family_name}\")\n",
        "```"
      ]
    },
    {
      "cell_type": "code",
      "metadata": {
        "id": "ONrimyRZS6sQ",
        "colab_type": "code",
        "colab": {}
      },
      "source": [
        ""
      ],
      "execution_count": null,
      "outputs": []
    },
    {
      "cell_type": "markdown",
      "metadata": {
        "id": "BniXCRuoS2Yd",
        "colab_type": "text"
      },
      "source": [
        "Let's do some maths: \n",
        "```python\n",
        "print(3+2) # 3 + 2 = 5\n",
        "print(3-2) # 3 - 2 = 1\n",
        "print(3*2) # 3 * 2 = 6\n",
        "print(3/2) # 3 / 2 = 1.5 (be careful of old versions)\n",
        "print(3**2)# 3^2 = 3*3 = 9\n",
        "print(3%2) # 3%2 = 1 (3/2 = 1 with 1 remaining\n",
        "```"
      ]
    },
    {
      "cell_type": "code",
      "metadata": {
        "id": "4Ek_Rh3cSumG",
        "colab_type": "code",
        "colab": {}
      },
      "source": [
        ""
      ],
      "execution_count": null,
      "outputs": []
    },
    {
      "cell_type": "markdown",
      "metadata": {
        "id": "k0CXezzT4iBw",
        "colab_type": "text"
      },
      "source": [
        "Getting user input: \n",
        "```python\n",
        "name = input('Hey, what is your name?\")\n",
        "print(name)\n",
        "```"
      ]
    },
    {
      "cell_type": "markdown",
      "metadata": {
        "id": "XMaZ95zqVz1i",
        "colab_type": "text"
      },
      "source": [
        "Converting between types: \n",
        "You can convert between data types using a technique called \"casting\". \n",
        "\n",
        "\n",
        "`foo = int(\"5\")`\n",
        "```python\n",
        "for example: \n",
        "foo = input(\"How many days are in the week? \")\n",
        "foo = int(foo)\n",
        "print(foo*3)\n",
        "```"
      ]
    },
    {
      "cell_type": "code",
      "metadata": {
        "id": "ShRHNR4pYr_N",
        "colab_type": "code",
        "colab": {}
      },
      "source": [
        ""
      ],
      "execution_count": null,
      "outputs": []
    },
    {
      "cell_type": "markdown",
      "metadata": {
        "id": "vHh4efklzKjG",
        "colab_type": "text"
      },
      "source": [
        "**Practice Questions:** \n"
      ]
    },
    {
      "cell_type": "markdown",
      "metadata": {
        "id": "PRbRLJPx2aI4",
        "colab_type": "text"
      },
      "source": [
        "Create a code block that prints out the following text: \n",
        "\n",
        "\n",
        "\n",
        "1.   \"Hello world\"\n",
        "2.   \"Hello again\"\n",
        "3. \"Printing is fun!\"\n",
        "4. \"Yay! Printing\""
      ]
    },
    {
      "cell_type": "code",
      "metadata": {
        "id": "0Gu3zoJv2rnU",
        "colab_type": "code",
        "colab": {}
      },
      "source": [
        ""
      ],
      "execution_count": null,
      "outputs": []
    },
    {
      "cell_type": "markdown",
      "metadata": {
        "id": "7i2n7SPj2sB-",
        "colab_type": "text"
      },
      "source": [
        "Given the following variables:\n",
        "```python   \n",
        "hens = 25 + 30/6  \n",
        "roosters = 100 - 25 * 3  \n",
        "```\n",
        "\n",
        "print the following output  \n",
        "\"I will now count my chickens\"  \n",
        "\"I have 30.0 hens and 25   Rosters\"  "
      ]
    },
    {
      "cell_type": "code",
      "metadata": {
        "id": "pnVmGyPT3kUI",
        "colab_type": "code",
        "colab": {}
      },
      "source": [
        "hens = 25 + 30/6\n",
        "roosters = 100 - 25 * 3"
      ],
      "execution_count": null,
      "outputs": []
    },
    {
      "cell_type": "markdown",
      "metadata": {
        "id": "9tL9aYD33ia2",
        "colab_type": "text"
      },
      "source": [
        "Create a program with the following variables:   \n",
        "```python\n",
        "cars = 100\n",
        "space_in_cars = 4  \n",
        "drivers = 30 \n",
        "passengers = 90\n",
        "```\n",
        "The program must calculate: \n",
        "1. How many surplus cars are left\n",
        "2. The maximum car pool capacity\n",
        "3. The average number of passengers per car"
      ]
    },
    {
      "cell_type": "code",
      "metadata": {
        "id": "hBjyYo-63iI2",
        "colab_type": "code",
        "colab": {}
      },
      "source": [
        "cars = 100\n",
        "space_in_cars = 4  \n",
        "drivers = 30 \n",
        "passengers = 90"
      ],
      "execution_count": null,
      "outputs": []
    },
    {
      "cell_type": "markdown",
      "metadata": {
        "id": "w5OnJ4HX4b3E",
        "colab_type": "text"
      },
      "source": [
        "Create a program that asks for a users given and family names and then reverses the order of them. i.e., if I enter \"Adam\" and \"Carter\" python will print \"Carter Adam\""
      ]
    },
    {
      "cell_type": "code",
      "metadata": {
        "id": "lYGzyXLbTztH",
        "colab_type": "code",
        "colab": {}
      },
      "source": [
        ""
      ],
      "execution_count": null,
      "outputs": []
    },
    {
      "cell_type": "markdown",
      "metadata": {
        "id": "U8HO5emNzODs",
        "colab_type": "text"
      },
      "source": [
        "**Investigation**"
      ]
    },
    {
      "cell_type": "markdown",
      "metadata": {
        "id": "5z3t5RSWUoj7",
        "colab_type": "text"
      },
      "source": [
        "You are to create a program that can accept user input and display it. The program that you ask to write asks a user for the following input: \n",
        "* Their given name\n",
        "* The day of their birth\n",
        "* The month of their birth\n",
        "* The year of their birth\n",
        "\n",
        "Your program must calculate an approximation* of how many days that person has been alive and then output it in the following format:\n",
        "\n",
        "`\"Hi {given_name}, you have been alive for approximately {n_days}\"`\n",
        "\n",
        "NOTE: calculating the exact number of days isn't trivial. An approximation is fine. "
      ]
    },
    {
      "cell_type": "code",
      "metadata": {
        "id": "IHL5AUWywAOP",
        "colab_type": "code",
        "colab": {}
      },
      "source": [
        ""
      ],
      "execution_count": null,
      "outputs": []
    },
    {
      "cell_type": "markdown",
      "metadata": {
        "id": "1XKAPAj1V_Ue",
        "colab_type": "text"
      },
      "source": [
        "**Fix my terrible code!**\n",
        "\n",
        "The code below is terrible. Please fix it! "
      ]
    },
    {
      "cell_type": "code",
      "metadata": {
        "id": "yffpD7RxWBF4",
        "colab_type": "code",
        "colab": {}
      },
      "source": [
        "print(\"hey, this printing thing is fun!')\n",
        "print('Why doesn't this code work?')\n",
        "print(\"5\"*3, \"should equal 15\")\n",
        "foo = input(\"What is the answer to life, the universe, and everything? \")\n",
        "print(foo/7)"
      ],
      "execution_count": null,
      "outputs": []
    }
  ]
}