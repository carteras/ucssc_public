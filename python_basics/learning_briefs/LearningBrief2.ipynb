{
  "nbformat": 4,
  "nbformat_minor": 0,
  "metadata": {
    "colab": {
      "name": "LearningBrief2.ipynb",
      "provenance": [],
      "authorship_tag": "ABX9TyNXMo/HL+luYcYhhU5H0pwz",
      "include_colab_link": true
    },
    "kernelspec": {
      "name": "python3",
      "display_name": "Python 3"
    }
  },
  "cells": [
    {
      "cell_type": "markdown",
      "metadata": {
        "id": "view-in-github",
        "colab_type": "text"
      },
      "source": [
        "<a href=\"https://colab.research.google.com/github/carteras/ucssc_public/blob/master/python_basics/learning_briefs/LearningBrief2.ipynb\" target=\"_parent\"><img src=\"https://colab.research.google.com/assets/colab-badge.svg\" alt=\"Open In Colab\"/></a>"
      ]
    },
    {
      "cell_type": "code",
      "metadata": {
        "id": "0cSe2Mo8tBBk",
        "colab_type": "code",
        "colab": {
          "base_uri": "https://localhost:8080/",
          "height": 34
        },
        "outputId": "efb1cea4-7d46-4ab7-c409-0a262a4ba41c"
      },
      "source": [
        "bicycles = ['trek', 'cannondale', 'redline', 'specalised']\n",
        "print(bicycles)"
      ],
      "execution_count": null,
      "outputs": [
        {
          "output_type": "stream",
          "text": [
            "['trek', 'cannondale', 'redline', 'specalised']\n"
          ],
          "name": "stdout"
        }
      ]
    },
    {
      "cell_type": "code",
      "metadata": {
        "id": "2AbX1ySYtReq",
        "colab_type": "code",
        "colab": {
          "base_uri": "https://localhost:8080/",
          "height": 34
        },
        "outputId": "d5932ea4-ae5b-4c03-c025-7cd14edc9bf5"
      },
      "source": [
        "print(bicycles[0].title(), bicycles[1].upper())"
      ],
      "execution_count": null,
      "outputs": [
        {
          "output_type": "stream",
          "text": [
            "Trek CANNONDALE\n"
          ],
          "name": "stdout"
        }
      ]
    },
    {
      "cell_type": "code",
      "metadata": {
        "id": "lFnKyDq0tn95",
        "colab_type": "code",
        "colab": {
          "base_uri": "https://localhost:8080/",
          "height": 34
        },
        "outputId": "4c2018f5-b872-4e09-e895-92780cfc69d9"
      },
      "source": [
        "message = f'My first bike was a {bicycles[0].title()}.'\n",
        "print(message)"
      ],
      "execution_count": null,
      "outputs": [
        {
          "output_type": "stream",
          "text": [
            "My first bike was a Trek.\n"
          ],
          "name": "stdout"
        }
      ]
    },
    {
      "cell_type": "code",
      "metadata": {
        "id": "AI_hj2xxtyMq",
        "colab_type": "code",
        "colab": {
          "base_uri": "https://localhost:8080/",
          "height": 51
        },
        "outputId": "686071ec-b8ee-4c1e-d47d-5a0c8c3c2ba0"
      },
      "source": [
        "motorcycles = ['honda', 'yamaha', 'suzuki']\n",
        "print(motorcycles)\n",
        "motorcycles[0] = 'ducati'\n",
        "print(motorcycles)"
      ],
      "execution_count": null,
      "outputs": [
        {
          "output_type": "stream",
          "text": [
            "['honda', 'yamaha', 'suzuki']\n",
            "['ducati', 'yamaha', 'suzuki']\n"
          ],
          "name": "stdout"
        }
      ]
    },
    {
      "cell_type": "code",
      "metadata": {
        "id": "QpH42avjuCWz",
        "colab_type": "code",
        "colab": {
          "base_uri": "https://localhost:8080/",
          "height": 34
        },
        "outputId": "c4ffe406-79df-491f-b7f1-aee1ea0f2414"
      },
      "source": [
        "motorcycles.append('honda')\n",
        "print(motorcycles)"
      ],
      "execution_count": null,
      "outputs": [
        {
          "output_type": "stream",
          "text": [
            "['ducati', 'yamaha', 'suzuki', 'honda']\n"
          ],
          "name": "stdout"
        }
      ]
    },
    {
      "cell_type": "code",
      "metadata": {
        "id": "A1H-_eEluKfp",
        "colab_type": "code",
        "colab": {
          "base_uri": "https://localhost:8080/",
          "height": 34
        },
        "outputId": "b6c5532c-6f42-42c8-dc1a-846c5ac1d25d"
      },
      "source": [
        "motorcycles.insert(0, 'BMW')\n",
        "print(motorcycles)"
      ],
      "execution_count": null,
      "outputs": [
        {
          "output_type": "stream",
          "text": [
            "['BMW', 'ducati', 'yamaha', 'suzuki', 'honda']\n"
          ],
          "name": "stdout"
        }
      ]
    },
    {
      "cell_type": "code",
      "metadata": {
        "id": "VHb1f9aJuTr4",
        "colab_type": "code",
        "colab": {
          "base_uri": "https://localhost:8080/",
          "height": 34
        },
        "outputId": "69da7e18-dc73-4273-b127-1881bec37ed7"
      },
      "source": [
        "del motorcycles[0]\n",
        "print(motorcycles)"
      ],
      "execution_count": null,
      "outputs": [
        {
          "output_type": "stream",
          "text": [
            "['ducati', 'yamaha', 'suzuki', 'honda']\n"
          ],
          "name": "stdout"
        }
      ]
    },
    {
      "cell_type": "code",
      "metadata": {
        "id": "rH-5JqCEub3I",
        "colab_type": "code",
        "colab": {
          "base_uri": "https://localhost:8080/",
          "height": 34
        },
        "outputId": "c0a09023-417c-421f-a606-39b8f614fe10"
      },
      "source": [
        "motorcycles.remove('yamaha')\n",
        "print(motorcycles)"
      ],
      "execution_count": null,
      "outputs": [
        {
          "output_type": "stream",
          "text": [
            "['ducati', 'suzuki', 'honda']\n"
          ],
          "name": "stdout"
        }
      ]
    },
    {
      "cell_type": "code",
      "metadata": {
        "id": "ttXF4A-6uj6Q",
        "colab_type": "code",
        "colab": {
          "base_uri": "https://localhost:8080/",
          "height": 34
        },
        "outputId": "c6e2b719-4ac5-485d-be48-571e4093251f"
      },
      "source": [
        "motorcycles.sort()\n",
        "print(motorcycles)"
      ],
      "execution_count": null,
      "outputs": [
        {
          "output_type": "stream",
          "text": [
            "['ducati', 'honda', 'suzuki']\n"
          ],
          "name": "stdout"
        }
      ]
    },
    {
      "cell_type": "code",
      "metadata": {
        "id": "7nVzC1jduvx3",
        "colab_type": "code",
        "colab": {
          "base_uri": "https://localhost:8080/",
          "height": 68
        },
        "outputId": "3eef09b6-e24b-497f-e633-e40f66b96467"
      },
      "source": [
        "magicians = ['alice', 'bob', 'charlie']\n",
        "for magician in magicians:\n",
        "  print(magician)"
      ],
      "execution_count": null,
      "outputs": [
        {
          "output_type": "stream",
          "text": [
            "Alice\n",
            "Bob\n",
            "Charlie\n"
          ],
          "name": "stdout"
        }
      ]
    },
    {
      "cell_type": "code",
      "metadata": {
        "id": "2DHiZPo5u97w",
        "colab_type": "code",
        "colab": {
          "base_uri": "https://localhost:8080/",
          "height": 68
        },
        "outputId": "2c59b81d-6d88-4088-85e8-825f90ca6fde"
      },
      "source": [
        "for magician in magicians:\n",
        "  print(magician.title())"
      ],
      "execution_count": null,
      "outputs": [
        {
          "output_type": "stream",
          "text": [
            "Alice\n",
            "Bob\n",
            "Charlie\n"
          ],
          "name": "stdout"
        }
      ]
    },
    {
      "cell_type": "code",
      "metadata": {
        "id": "3Qy-4w5avDBU",
        "colab_type": "code",
        "colab": {
          "base_uri": "https://localhost:8080/",
          "height": 119
        },
        "outputId": "cddfc866-bbca-4512-e690-9019dee6febb"
      },
      "source": [
        "for magician in magicians:\n",
        "  print(f'{magician.title()}, that was a great trick!')\n",
        "  print(f\"I can't wait to see your next trick {magician.title()}\")"
      ],
      "execution_count": null,
      "outputs": [
        {
          "output_type": "stream",
          "text": [
            "Alice, that was a great trick!\n",
            "I can't wait to see your next trick Alice\n",
            "Bob, that was a great trick!\n",
            "I can't wait to see your next trick Bob\n",
            "Charlie, that was a great trick!\n",
            "I can't wait to see your next trick Charlie\n"
          ],
          "name": "stdout"
        }
      ]
    },
    {
      "cell_type": "code",
      "metadata": {
        "id": "mLt-TwEZvWtC",
        "colab_type": "code",
        "colab": {
          "base_uri": "https://localhost:8080/",
          "height": 136
        },
        "outputId": "b49e3654-5808-491a-a06f-c12e1e873a14"
      },
      "source": [
        "for magician in magicians:\n",
        "  print(f'{magician.title()}, that was a great trick!')\n",
        "  print(f\"I can't wait to see your next trick {magician.title()}\")\n",
        "print(\"Thank you, everyone! That what a great magic show!\")"
      ],
      "execution_count": null,
      "outputs": [
        {
          "output_type": "stream",
          "text": [
            "Alice, that was a great trick!\n",
            "I can't wait to see your next trick Alice\n",
            "Bob, that was a great trick!\n",
            "I can't wait to see your next trick Bob\n",
            "Charlie, that was a great trick!\n",
            "I can't wait to see your next trick Charlie\n",
            "Thank you, everyone! That what a great magic show!\n"
          ],
          "name": "stdout"
        }
      ]
    },
    {
      "cell_type": "code",
      "metadata": {
        "id": "QU029dZ3vlKs",
        "colab_type": "code",
        "colab": {
          "base_uri": "https://localhost:8080/",
          "height": 85
        },
        "outputId": "0fee6601-e7c2-43b0-88fe-e616e03aaef5"
      },
      "source": [
        "for value in range(1, 5):\n",
        "  print(value)"
      ],
      "execution_count": null,
      "outputs": [
        {
          "output_type": "stream",
          "text": [
            "1\n",
            "2\n",
            "3\n",
            "4\n"
          ],
          "name": "stdout"
        }
      ]
    },
    {
      "cell_type": "code",
      "metadata": {
        "id": "EesojoypvtSM",
        "colab_type": "code",
        "colab": {
          "base_uri": "https://localhost:8080/",
          "height": 34
        },
        "outputId": "0a62928e-8a2d-4d16-fdf9-c7f9d649ed62"
      },
      "source": [
        "numbers = list(range(1, 5))\n",
        "print(numbers)"
      ],
      "execution_count": null,
      "outputs": [
        {
          "output_type": "stream",
          "text": [
            "[1, 2, 3, 4]\n"
          ],
          "name": "stdout"
        }
      ]
    },
    {
      "cell_type": "code",
      "metadata": {
        "id": "c-nhdQf3vzqi",
        "colab_type": "code",
        "colab": {
          "base_uri": "https://localhost:8080/",
          "height": 34
        },
        "outputId": "39507ad2-0fa4-40f4-c1da-e5b3d8373f29"
      },
      "source": [
        "squared_numbers = []\n",
        "for value in range(1, 11):\n",
        "  square = value**2\n",
        "  squared_numbers.append(square)\n",
        "\n",
        "print(squared_numbers)"
      ],
      "execution_count": null,
      "outputs": [
        {
          "output_type": "stream",
          "text": [
            "[1, 4, 9, 16, 25, 36, 49, 64, 81, 100]\n"
          ],
          "name": "stdout"
        }
      ]
    },
    {
      "cell_type": "code",
      "metadata": {
        "id": "SCzSMt0hv_do",
        "colab_type": "code",
        "colab": {
          "base_uri": "https://localhost:8080/",
          "height": 68
        },
        "outputId": "89d49627-6731-4f17-fdca-dfae18391d15"
      },
      "source": [
        "print(min(squared_numbers))\n",
        "print(max(squared_numbers))\n",
        "print(sum(squared_numbers))"
      ],
      "execution_count": null,
      "outputs": [
        {
          "output_type": "stream",
          "text": [
            "1\n",
            "100\n",
            "385\n"
          ],
          "name": "stdout"
        }
      ]
    },
    {
      "cell_type": "code",
      "metadata": {
        "id": "O8_mzxWrwJ7y",
        "colab_type": "code",
        "colab": {
          "base_uri": "https://localhost:8080/",
          "height": 85
        },
        "outputId": "0d23be10-2156-446f-ab2c-51ee362a91b1"
      },
      "source": [
        "cars = ['audi', 'bwm', 'subaru', 'toyota']\n",
        "for car in cars:\n",
        "  if car == \"bwm\":\n",
        "    print(car.upper())\n",
        "  else:\n",
        "    print(car.title())"
      ],
      "execution_count": null,
      "outputs": [
        {
          "output_type": "stream",
          "text": [
            "Audi\n",
            "BWM\n",
            "Subaru\n",
            "Toyota\n"
          ],
          "name": "stdout"
        }
      ]
    },
    {
      "cell_type": "code",
      "metadata": {
        "id": "n-qK0a5QwXkH",
        "colab_type": "code",
        "colab": {
          "base_uri": "https://localhost:8080/",
          "height": 34
        },
        "outputId": "bd96f424-6778-46e9-a3f9-bde0f575d431"
      },
      "source": [
        "car = 'bmw'\n",
        "print(car == 'bmw', car == 'toyota')"
      ],
      "execution_count": null,
      "outputs": [
        {
          "output_type": "stream",
          "text": [
            "True False\n"
          ],
          "name": "stdout"
        }
      ]
    },
    {
      "cell_type": "code",
      "metadata": {
        "id": "l2JKEFACwkWH",
        "colab_type": "code",
        "colab": {
          "base_uri": "https://localhost:8080/",
          "height": 34
        },
        "outputId": "08dff8b4-cee5-442e-e399-e12c6e303f1b"
      },
      "source": [
        "print(car != \"bmw\", car != \"toyota\")"
      ],
      "execution_count": null,
      "outputs": [
        {
          "output_type": "stream",
          "text": [
            "False True\n"
          ],
          "name": "stdout"
        }
      ]
    },
    {
      "cell_type": "code",
      "metadata": {
        "id": "iOEtl2ylwqh1",
        "colab_type": "code",
        "colab": {
          "base_uri": "https://localhost:8080/",
          "height": 51
        },
        "outputId": "47d5e59e-f0da-4bcd-9fb0-69e86c4a2077"
      },
      "source": [
        "age1 = 16\n",
        "print(age1 >= 15 and age1 <= 18)\n",
        "print(age1 <15 or age1 < 18)"
      ],
      "execution_count": null,
      "outputs": [
        {
          "output_type": "stream",
          "text": [
            "True\n",
            "True\n"
          ],
          "name": "stdout"
        }
      ]
    },
    {
      "cell_type": "code",
      "metadata": {
        "id": "-6BscPmIwz-T",
        "colab_type": "code",
        "colab": {
          "base_uri": "https://localhost:8080/",
          "height": 34
        },
        "outputId": "f5b9ae2d-15bb-4a6e-8d33-2a57b0287321"
      },
      "source": [
        "toppings = ['mushrooms', 'onions', 'pineapple']\n",
        "print('mushrooms' in toppings)"
      ],
      "execution_count": null,
      "outputs": [
        {
          "output_type": "stream",
          "text": [
            "True\n"
          ],
          "name": "stdout"
        }
      ]
    },
    {
      "cell_type": "code",
      "metadata": {
        "id": "_0RrZHlow6XS",
        "colab_type": "code",
        "colab": {
          "base_uri": "https://localhost:8080/",
          "height": 34
        },
        "outputId": "57418e8a-f909-4a2d-cac8-3110cd09c797"
      },
      "source": [
        "print('apple' not in toppings)"
      ],
      "execution_count": null,
      "outputs": [
        {
          "output_type": "stream",
          "text": [
            "True\n"
          ],
          "name": "stdout"
        }
      ]
    },
    {
      "cell_type": "code",
      "metadata": {
        "id": "NILhsqtlw_MP",
        "colab_type": "code",
        "colab": {
          "base_uri": "https://localhost:8080/",
          "height": 34
        },
        "outputId": "3ccacc42-a3f3-4319-cdda-d90bb340be67"
      },
      "source": [
        "topping = 'pineapple'\n",
        "if topping == 'mushrooms':\n",
        "  print(\"YES! Mushrooms!\")\n",
        "elif topping == 'onions':\n",
        "  print(\"NO! Not onions!\")\n",
        "elif toppings == \"pineapple\":\n",
        "  print(\"Ah, the fruit that tries to eat you!\")\n",
        "else:\n",
        "  print(\"What topping is this?\")"
      ],
      "execution_count": null,
      "outputs": [
        {
          "output_type": "stream",
          "text": [
            "What topping is this?\n"
          ],
          "name": "stdout"
        }
      ]
    },
    {
      "cell_type": "code",
      "metadata": {
        "id": "dR__EKfb7_DB",
        "colab_type": "code",
        "colab": {
          "base_uri": "https://localhost:8080/",
          "height": 85
        },
        "outputId": "63fdbda7-a1cd-4266-ef28-ad1954434f04"
      },
      "source": [
        "requested_toppings = ['mushrooms', 'capsicum', 'extra cheese']\n",
        "for topping in requested_toppings:\n",
        "  if topping == 'capsicum':\n",
        "    print(\"Sorry, we are out of capsicum at the moment\")\n",
        "  else: \n",
        "    print(f'Adding {topping} to your pizza')\n",
        "print(\"making your pizza now!\")"
      ],
      "execution_count": null,
      "outputs": [
        {
          "output_type": "stream",
          "text": [
            "Adding mushrooms to your pizza\n",
            "Sorry, we are out of capsicum at the moment\n",
            "Adding extra cheese to your pizza\n",
            "making your pizza now!\n"
          ],
          "name": "stdout"
        }
      ]
    },
    {
      "cell_type": "code",
      "metadata": {
        "id": "E6x3wraV8P5P",
        "colab_type": "code",
        "colab": {}
      },
      "source": [
        ""
      ],
      "execution_count": null,
      "outputs": []
    }
  ]
}